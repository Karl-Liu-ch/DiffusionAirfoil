{
 "cells": [
  {
   "cell_type": "code",
   "execution_count": 322,
   "metadata": {},
   "outputs": [],
   "source": [
    "import numpy as np\n",
    "import os\n",
    "import itertools\n",
    "import time\n",
    "import torch\n",
    "import math\n",
    "from inspect import isfunction\n",
    "from functools import partial\n",
    "\n",
    "import numpy as np\n",
    "from sklearn.decomposition import PCA\n",
    "from sklearn.metrics import mean_squared_error\n",
    "# import tensorflow as tf\n",
    "\n",
    "import matplotlib\n",
    "from matplotlib import pyplot as plt\n",
    "from mpl_toolkits.mplot3d import Axes3D\n",
    "\n",
    "from scipy.interpolate import splev, splprep, interp1d\n",
    "from scipy.integrate import cumtrapz\n",
    "\n",
    "from scipy.signal import savgol_filter\n",
    "\n",
    "def setdownflap(airfoil, theta=2, pose=0.65):\n",
    "    lh_idx = np.argmin(airfoil[:,0])\n",
    "    theta = theta * np.pi / 180\n",
    "    c = np.cos(theta)\n",
    "    s = np.sin(theta)\n",
    "    R = np.array([[c, -s], [s, c]])\n",
    "    af_down = airfoil[lh_idx:,:]\n",
    "    _i = np.abs(af_down[:,0] - pose).argmin()\n",
    "    flap = af_down[_i:,:]\n",
    "    flap = smooth_line(flap, flap.shape[0], 3)\n",
    "    flap_new = flap - flap[0,:]\n",
    "    flap_new = np.matmul(flap_new, R) + flap[0,:]\n",
    "    af_down_new = np.copy(af_down)\n",
    "    af_down_new[_i:,:] = np.copy(flap_new)\n",
    "    theta = np.arctan2(af_down_new[-1,1] - af_down[-1,1], 1)\n",
    "    c = np.cos(theta)\n",
    "    s = np.sin(theta)\n",
    "    R = np.array([[c, -s], [s, c]])\n",
    "    af_down_new = np.matmul(af_down_new, R)\n",
    "    af = np.zeros_like(airfoil)\n",
    "    af[:lh_idx,:] = airfoil[:lh_idx,:]\n",
    "    af[lh_idx:,:] = af_down_new\n",
    "    return af\n",
    "\n",
    "def setupflap(airfoil, theta=-2, pose=0.65):\n",
    "    lh_idx = np.argmin(airfoil[:,0])\n",
    "    theta = theta * np.pi / 180\n",
    "    c = np.cos(theta)\n",
    "    s = np.sin(theta)\n",
    "    R = np.array([[c, -s], [s, c]])\n",
    "    af_up = airfoil[:lh_idx,:]\n",
    "    _i = np.abs(af_up[:,0] - pose).argmin()\n",
    "    flap = af_up[:_i,:]\n",
    "    flap = smooth_line(flap, flap.shape[0], 3)\n",
    "    flap_new = flap - flap[-1,:]\n",
    "    flap_new = np.matmul(flap_new, R) + flap[-1,:]\n",
    "    af_up_new = np.copy(af_up)\n",
    "    af_up_new[:_i,:] = np.copy(flap_new)\n",
    "    theta = np.arctan2(af_up_new[0,1] - af_up[0,1], 1)\n",
    "    c = np.cos(theta)\n",
    "    s = np.sin(theta)\n",
    "    R = np.array([[c, -s], [s, c]])\n",
    "    af_up_new = np.matmul(af_up_new, R)\n",
    "    af = np.zeros_like(airfoil)\n",
    "    af[lh_idx:,:] = airfoil[lh_idx:,:]\n",
    "    af[:lh_idx,:] = af_up_new\n",
    "    return af\n",
    "\n",
    "def smooth_line(Q, N, k, D=20, resolution=1000):\n",
    "    ''' Interpolate N points whose concentration is based on curvature. '''\n",
    "    res, fp, ier, msg = splprep(Q.T, u=None, k=k, s=1e-6, per=0, full_output=1)\n",
    "    tck, u = res\n",
    "    uu = np.linspace(u.min(), u.max(), resolution)\n",
    "    x, y = splev(uu, tck, der=0)\n",
    "    dx, dy = splev(uu, tck, der=1)\n",
    "    ddx, ddy = splev(uu, tck, der=2)\n",
    "    cv = np.abs(ddx*dy - dx*ddy)/(dx*dx + dy*dy)**1.5 + D\n",
    "    cv_int = cumtrapz(cv, uu, initial=0)\n",
    "    fcv = interp1d(cv_int, uu)\n",
    "    cv_int_samples = np.linspace(0, cv_int.max(), N)\n",
    "    u_new = fcv(cv_int_samples)\n",
    "    x_new, y_new = splev(u_new, tck, der=0)\n",
    "    xy_new = np.vstack((x_new, y_new)).T\n",
    "    return xy_new\n",
    "\n",
    "def show_airfoil(af):\n",
    "    fig, axs = plt.subplots(1, 1)\n",
    "    axs.plot(af[:,0], af[:,1])\n",
    "    axs.set_aspect('equal', 'box')\n",
    "    fig.tight_layout()\n",
    "    plt.show()\n",
    "\n",
    "def derotate(airfoil):\n",
    "    airfoil = Normalize(airfoil)\n",
    "    ptail = 0.5 * (airfoil[0,:]+airfoil[-1,:])\n",
    "    ptails = np.expand_dims(ptail, axis=0)\n",
    "    ptails = np.repeat(ptails, airfoil.shape[0], axis=0)\n",
    "    i = airfoil[:,0].argmin()\n",
    "    phead = airfoil[i,:]\n",
    "    theta = np.arctan2(-(airfoil[i,1] - ptail[1]), -(airfoil[i,0] - ptail[0]))\n",
    "    c = np.cos(theta)\n",
    "    s = np.sin(theta)\n",
    "    R = np.array([[c, -s], [s, c]])\n",
    "    airfoil_R = airfoil\n",
    "    airfoil_R -= np.repeat(np.expand_dims(phead, axis=0), airfoil_R.shape[0], axis=0)\n",
    "    airfoil_R = np.matmul(airfoil_R, R)\n",
    "    return airfoil_R\n",
    "\n",
    "def Normalize(airfoil):\n",
    "    airfoil[:,0] -= airfoil[:,0].min()\n",
    "    r = np.maximum(airfoil[0,0], airfoil[-1,0])\n",
    "    r = float(1.0/r)\n",
    "    return airfoil * r\n",
    "\n",
    "def interpolate(airfoil, points = 256, N = 3):\n",
    "    a = 0.1\n",
    "    b = 2\n",
    "    af = np.copy(airfoil)\n",
    "    lh_idx = np.argmin(af[:,0])\n",
    "    lh_x = af[lh_idx, 0]\n",
    "    th_x = np.minimum(af[0,0], af[-1,0])\n",
    "    f_up = interp1d(airfoil[:lh_idx+1,0], airfoil[:lh_idx+1,1], kind='linear')\n",
    "    f_low = interp1d(airfoil[lh_idx:,0], airfoil[lh_idx:,1], kind='linear')\n",
    "    x = np.linspace(0,1,points//2)\n",
    "    y = ((np.cos(np.pi + x * np.pi) + 1) / 2)\n",
    "    # y = np.where(x > a, (x-a) * (1-a ** b) / (1 - a) + a ** b, x ** b)\n",
    "    xx_down = y * (af[-1,0] - lh_x) + lh_x\n",
    "    x = np.linspace(0,1,points//2+1)\n",
    "    y = ((np.cos(np.pi + x * np.pi) + 1) / 2)\n",
    "    # y = np.where(x > a, (x-a) * (1-a ** b) / (1 - a) + a ** b, x ** b)\n",
    "    xx_up = y * (af[0,0] - lh_x) + lh_x\n",
    "    yy_low = f_low(xx_down)\n",
    "    yy_up = f_up(xx_up)\n",
    "    aff = np.zeros([points,2])\n",
    "    aff[:points//2,0] = np.flip(xx_up[1:])\n",
    "    aff[:points//2,1] = np.flip(yy_up[1:])\n",
    "    aff[points//2:,0] = xx_down\n",
    "    aff[points//2:,1] = yy_low\n",
    "    return aff\n"
   ]
  },
  {
   "cell_type": "code",
   "execution_count": 321,
   "metadata": {},
   "outputs": [
    {
     "data": {
      "image/png": "[encoded data removed]",
      "text/plain": [
       "<Figure size 640x480 with 1 Axes>"
      ]
     },
     "metadata": {},
     "output_type": "display_data"
    },
    {
     "data": {
      "image/png": "[encoded data removed]",
      "text/plain": [
       "<Figure size 640x480 with 1 Axes>"
      ]
     },
     "metadata": {},
     "output_type": "display_data"
    },
    {
     "data": {
      "image/png": "[encoded data removed]",
      "text/plain": [
       "<Figure size 640x480 with 1 Axes>"
      ]
     },
     "metadata": {},
     "output_type": "display_data"
    }
   ],
   "source": [
    "airfoil = np.loadtxt('BETTER/20150114-50 +2 d.dat', skiprows=1)\n",
    "airfoil = interpolate(airfoil, 256, 3)\n",
    "show_airfoil(airfoil)\n",
    "af = np.copy(airfoil)\n",
    "af = setdownflap(af, -2, 0.7)\n",
    "show_airfoil(af)\n",
    "af = setdownflap(af, theta=2, pose=0.65)\n",
    "af = interpolate(af, 256, 3)\n",
    "show_airfoil(af)\n",
    "np.savetxt('tmp/airfoil.dat', af)"
   ]
  },
  {
   "cell_type": "code",
   "execution_count": 234,
   "metadata": {},
   "outputs": [
    {
     "data": {
      "image/png": "[encoded data removed]",
      "text/plain": [
       "<Figure size 640x480 with 1 Axes>"
      ]
     },
     "metadata": {},
     "output_type": "display_data"
    },
    {
     "data": {
      "image/png": "[encoded data removed]",
      "text/plain": [
       "<Figure size 640x480 with 1 Axes>"
      ]
     },
     "metadata": {},
     "output_type": "display_data"
    }
   ],
   "source": [
    "from airfoil_process import *\n",
    "airfoil = np.loadtxt('SynerJ/SynerJ-100.dat', skiprows=1)\n",
    "airfoil = derotate(airfoil)\n",
    "airfoil_i = np.copy(airfoil)\n",
    "airfoil_i = derotate(airfoil_i)\n",
    "airfoil_i = interpolate(airfoil_i, 256, 3)\n",
    "show_airfoil(airfoil)\n",
    "af = setupflap(airfoil_i, theta=2, pose=0.7)\n",
    "af = setdownflap(af, theta=2, pose=0.6)\n",
    "af = interpolate(af, 256, 3)\n",
    "show_airfoil(af)\n",
    "np.savetxt('tmp/airfoil.dat', af)"
   ]
  },
  {
   "cell_type": "code",
   "execution_count": 235,
   "metadata": {},
   "outputs": [
    {
     "data": {
      "text/plain": [
       "[<matplotlib.lines.Line2D at 0x25d371d9960>]"
      ]
     },
     "execution_count": 235,
     "metadata": {},
     "output_type": "execute_result"
    },
    {
     "data": {
      "image/png": "[encoded data removed]",
      "text/plain": [
       "<Figure size 640x480 with 1 Axes>"
      ]
     },
     "metadata": {},
     "output_type": "display_data"
    }
   ],
   "source": [
    "lh_idx = np.argmin(af[:,0])\n",
    "lh_x = af[lh_idx, 0]\n",
    "# Get trailing head\n",
    "th_x = np.minimum(af[0,0], af[-1,0])\n",
    "# Interpolate\n",
    "f_up = interp1d(af[:lh_idx+1,0], af[:lh_idx+1,1])\n",
    "f_low = interp1d(af[lh_idx:,0], af[lh_idx:,1])\n",
    "points = 256\n",
    "a = 0.1\n",
    "b = 2\n",
    "x = np.linspace(0,1,points//2)\n",
    "y = np.where(x > a, (x-a) * (1-a ** b) / (1 - a) + a ** b, x ** b)\n",
    "xx_down = y * (af[-1,0] - lh_x) + lh_x\n",
    "x = np.linspace(0,1,points//2+1)\n",
    "y = np.where(x > a, (x-a) * (1-a ** b) / (1 - a) + a ** b, x ** b)\n",
    "xx_up = y * (af[0,0] - lh_x) + lh_x\n",
    "yy_up = f_up(xx_up)\n",
    "yy_low = f_low(xx_down)\n",
    "plt.plot(xx_up[:],yy_up[:], '+')\n",
    "# plt.plot(xx_down[:],yy_low[:], '+')\n",
    "\n",
    "lh_idx = np.argmin(airfoil[:,0])\n",
    "lh_x = airfoil[lh_idx, 0]\n",
    "# Get trailing head\n",
    "th_x = np.minimum(airfoil[0,0], airfoil[-1,0])\n",
    "# Interpolate\n",
    "f_up = interp1d(airfoil[:lh_idx+1,0], airfoil[:lh_idx+1,1])\n",
    "f_low = interp1d(airfoil[lh_idx:,0], airfoil[lh_idx:,1])\n",
    "points = 256\n",
    "a = 0.1\n",
    "b = 2\n",
    "x = np.linspace(0,1,points//2)\n",
    "y = np.where(x > a, (x-a) * (1-a ** b) / (1 - a) + a ** b, x ** b)\n",
    "xx_down = y * (airfoil[-1,0] - lh_x) + lh_x\n",
    "x = np.linspace(0,1,points//2+1)\n",
    "y = np.where(x > a, (x-a) * (1-a ** b) / (1 - a) + a ** b, x ** b)\n",
    "xx_up = y * (airfoil[0,0] - lh_x) + lh_x\n",
    "yy_up = f_up(xx_up)\n",
    "yy_low = f_low(xx_down)\n",
    "plt.plot(xx_up[:],yy_up[:], '')\n",
    "# plt.plot(xx_down[:],yy_low[:], '')\n",
    "# plt.plot(airfoil[lh_idx:,0],airfoil[lh_idx:,1], '+')"
   ]
  },
  {
   "cell_type": "code",
   "execution_count": 236,
   "metadata": {},
   "outputs": [
    {
     "data": {
      "text/plain": [
       "(244999.99999999994, 1.2807836734693878)"
      ]
     },
     "execution_count": 236,
     "metadata": {},
     "output_type": "execute_result"
    }
   ],
   "source": [
    "v = 10\n",
    "d = 0.3\n",
    "span = 2.5\n",
    "area = d * span\n",
    "density = 1.225\n",
    "vis = 1.5 * 10 ** (-5)\n",
    "reynolds = v * density * d / vis\n",
    "mass = 6\n",
    "g = 9.806\n",
    "cl = mass * g / (0.5 * area * density * (v ** 2))\n",
    "reynolds, cl"
   ]
  },
  {
   "cell_type": "code",
   "execution_count": 237,
   "metadata": {},
   "outputs": [
    {
     "name": "stdout",
     "output_type": "stream",
     "text": [
      "name 'pexpect' is not defined\n",
      "XFoil error!\n"
     ]
    },
    {
     "data": {
      "text/plain": [
       "nan"
      ]
     },
     "execution_count": 237,
     "metadata": {},
     "output_type": "execute_result"
    }
   ],
   "source": [
    "from utils_win import *\n",
    "cl, cd = compute_coeff(af, reynolds, 0, cl)\n",
    "perf = cl / cd\n",
    "perf"
   ]
  },
  {
   "cell_type": "code",
   "execution_count": 238,
   "metadata": {},
   "outputs": [],
   "source": [
    "def type2_resqrtcl(mass, diameter, area):\n",
    "    g = 9.806\n",
    "    viscosity = 1.5e-5\n",
    "    re_sqrtcl = np.sqrt(2 * mass * g / density / area) * diameter / viscosity\n",
    "    return re_sqrtcl\n",
    "\n",
    "def compute_t2_coeff(airfoil, re_sqrtcl=50000, alpha_min=0, alpha_max = 5, alpha_step = 0.5, n_iter=2000, tmp_dir='tmp'):\n",
    "    create_dir(tmp_dir)\n",
    "    gc.collect()\n",
    "    safe_remove('{}/airfoil.log'.format(tmp_dir))\n",
    "    fname = '{}/airfoil.dat'.format(tmp_dir)\n",
    "    with open(fname, 'wb') as f:\n",
    "        np.savetxt(f, airfoil)\n",
    "    try:\n",
    "        if platform.system().lower() == 'windows':\n",
    "            child = wexpect.spawn('xfoil')\n",
    "        else:\n",
    "            child = pexpect.spawn('xfoil')\n",
    "        timeout = 10\n",
    "        \n",
    "        child.expect('XFOIL   c> ', timeout)\n",
    "        child.sendline('load {}/airfoil.dat'.format(tmp_dir))\n",
    "        child.expect('Enter airfoil name   s> ', timeout)\n",
    "        child.sendline('af')\n",
    "        child.expect('XFOIL   c> ', timeout)\n",
    "        child.sendline('OPER')\n",
    "        child.expect('.OPERi   c> ', timeout)\n",
    "        child.sendline('t2')\n",
    "        child.expect('.OPERi   c> ', timeout)\n",
    "        child.sendline('VISC {}'.format(re_sqrtcl))\n",
    "        child.expect('.OPERv   c> ', timeout)\n",
    "        child.sendline('ITER {}'.format(n_iter))\n",
    "        child.expect('.OPERv   c> ', timeout)\n",
    "        child.sendline('PACC')\n",
    "        child.expect('Enter  polar save filename  OR  <return> for no file   s> ', timeout)\n",
    "        child.sendline('{}/airfoil.log'.format(tmp_dir))\n",
    "        child.expect('Enter  polar dump filename  OR  <return> for no file   s> ', timeout)\n",
    "        child.sendline()\n",
    "        child.expect('.OPERva   c> ', timeout)\n",
    "        child.sendline('aseq {} {} {}'.format(alpha_min, alpha_max, alpha_step))\n",
    "        child.expect('c> ', timeout)\n",
    "        child.sendline()\n",
    "        child.expect('XFOIL   c> ', timeout)\n",
    "        child.sendline('quit')\n",
    "        \n",
    "        child.close()\n",
    "    \n",
    "        res = np.loadtxt('{}/airfoil.log'.format(tmp_dir), skiprows=12)\n",
    "        CL = res[:,1]\n",
    "        CD = res[:,2]\n",
    "            \n",
    "    except Exception as ex:\n",
    "        # print(ex)\n",
    "        print('XFoil error!')\n",
    "        CL = np.nan\n",
    "        CD = np.nan\n",
    "        \n",
    "    safe_remove(':00.bl')\n",
    "    \n",
    "    return CL, CD\n",
    "\n",
    "def gliding_perf(af, mass, d, span, alpha_min=0, alpha_max = 5, alpha_step = 0.5):\n",
    "    area = d * span\n",
    "    re_sqrtcl = type2_resqrtcl(mass, d, area)\n",
    "    cl, cd = compute_t2_coeff(af, re_sqrtcl, alpha_min, alpha_max, alpha_step)\n",
    "    perf = cl/cd\n",
    "    vz = np.sqrt((cl ** 3) / (cd ** 2))\n",
    "    try:\n",
    "        i = perf.argmax()\n",
    "        perf = perf.max()\n",
    "        return perf, cl[i], cd[i], vz.max()\n",
    "    except:\n",
    "        return perf, cl, cd, vz\n"
   ]
  },
  {
   "cell_type": "code",
   "execution_count": 239,
   "metadata": {},
   "outputs": [
    {
     "name": "stdout",
     "output_type": "stream",
     "text": [
      "XFoil error!\n"
     ]
    },
    {
     "data": {
      "text/plain": [
       "(nan, nan, nan, nan)"
      ]
     },
     "execution_count": 239,
     "metadata": {},
     "output_type": "execute_result"
    }
   ],
   "source": [
    "mass = 0.32\n",
    "g = 9.806\n",
    "d = 0.145\n",
    "span = 1.5\n",
    "area = d * span\n",
    "viscosity = 1.5e-5\n",
    "\n",
    "re_sqrtcl = type2_resqrtcl(mass, d, area)\n",
    "\n",
    "perf, cl, cd, vz = gliding_perf(af, mass, d, span)\n",
    "perf, cl, cd, vz"
   ]
  },
  {
   "cell_type": "code",
   "execution_count": 350,
   "metadata": {},
   "outputs": [],
   "source": [
    "import xlsxwriter\n",
    "\n",
    "def rotate_af(airfoil, pose, theta, resol = 1000):\n",
    "    af = np.copy(airfoil)\n",
    "    af = interpolate(af, resol)\n",
    "    idx_head = af[:,0].argmin()\n",
    "    a = abs(af[idx_head:,0]-pose)\n",
    "    _i = a.argmin() + idx_head\n",
    "    theta = theta * np.pi / 180\n",
    "    c = np.cos(theta)\n",
    "    s = np.sin(theta)\n",
    "    R = np.array([[c, -s], [s, c]])\n",
    "    af_new = af - af[_i,:]\n",
    "    af_new = np.matmul(af_new, R) + af[_i,:]\n",
    "    af_new = interpolate(af_new, 256)\n",
    "    return af_new\n",
    "\n",
    "def range_af(airfoil, d):\n",
    "    af = np.copy(airfoil)\n",
    "    af *= d\n",
    "    return af\n",
    "\n",
    "def expand_z(airfoil, z):\n",
    "    af = np.copy(airfoil)\n",
    "    tmp = np.ones([af.shape[0],1])\n",
    "    tmp *= z\n",
    "    af = np.concatenate([af,tmp], axis=1)\n",
    "    return af\n",
    "\n",
    "def writetoxls(airfoil, path = 'demo.xlsx', row = 0, end = False):\n",
    "    workbook = xlsxwriter.Workbook(path)\n",
    "    worksheet = workbook.add_worksheet()\n",
    "    worksheet.write(row, 0, \"StartLoft\")\n",
    "    row += 1\n",
    "    worksheet.write(row, 0, \"StartCurve\")\n",
    "    row += 1\n",
    "    for i in range(af.shape[0]):\n",
    "        worksheet.write(row, 1, airfoil[i,0])\n",
    "        worksheet.write(row, 2, airfoil[i,1])\n",
    "        worksheet.write(row, 0, airfoil[i,2])\n",
    "        row += 1\n",
    "\n",
    "    worksheet.write(row, 0, \"EndCurve\")\n",
    "    row += 1\n",
    "    worksheet.write(row, 0, \"EndLoft\")\n",
    "    row += 1\n",
    "    if end:\n",
    "        worksheet.write(row, 0, \"End\")\n",
    "        row += 1\n",
    "    workbook.close()\n",
    "    return row\n",
    "\n",
    "def writetxt(airfoil, mode = 'a', path = 'demo.txt', end = False):\n",
    "    f = open(path, mode)\n",
    "    f.write(\"StartLoft\\n\")\n",
    "    f.write(\"StartCurve\\n\")\n",
    "    for i in range(airfoil.shape[0]):\n",
    "        f.write(f'{airfoil[i,2]}, {airfoil[i,0]}, {airfoil[i,1]}\\n')\n",
    "\n",
    "    f.write(\"EndCurve\\n\")\n",
    "    f.write(\"EndLoft\\n\")\n",
    "    if end:\n",
    "        f.write(\"End\\n\")\n",
    "    f.close()\n",
    "\n",
    "def txt2xlsx(txtpath = 'demo.txt', xlsxpath = 'demo.xlsx'):\n",
    "    f = open(txtpath,'r')\n",
    "    row = 0\n",
    "    path = xlsxpath\n",
    "    workbook = xlsxwriter.Workbook(path)\n",
    "    worksheet = workbook.add_worksheet()\n",
    "    seg = re.compile(', ')\n",
    "    for line in f:\n",
    "        line = line.split('\\n')[0]\n",
    "        if seg.search(line) is not None:\n",
    "            worksheet.write(row, 0, float(line.split(', ')[0]))\n",
    "            worksheet.write(row, 1, float(line.split(', ')[1]))\n",
    "            worksheet.write(row, 2, float(line.split(', ')[2]))\n",
    "            row += 1\n",
    "        else:\n",
    "            worksheet.write(row, 0, line.split('\\n')[0])\n",
    "            row += 1\n",
    "    workbook.close()\n",
    "\n",
    "def cal_offset(x, y, root, flappose, angle, offset = 0):\n",
    "    rootflap = root * flappose\n",
    "    x_flap = rootflap + np.tan(angle) * y\n",
    "    d = x_flap - x * (flappose - offset)\n",
    "    return d\n",
    "\n",
    "def writeairfoil(aff, flappose, span, diameter, alpha = 5.5, twist = 0, root=180, offset = 0, angle = 0, mode = 'a', end = False):\n",
    "    aff = derotate(aff)\n",
    "    if offset != 0:\n",
    "        afftip = np.copy(aff)\n",
    "        afftip = setdownflap(afftip, theta=-2, pose=flappose)\n",
    "        aff = setdownflap(afftip, theta=2, pose=flappose-offset)\n",
    "    aff = rotate_af(aff, flappose-offset, twist)\n",
    "    aff = range_af(aff, diameter)\n",
    "    x_offset = cal_offset(diameter, span, root, flappose, angle, offset)\n",
    "    y_offset = span * np.tan(alpha * np.pi / 180)\n",
    "    aff += np.array([x_offset, y_offset])\n",
    "    aff = expand_z(aff, span)\n",
    "    writetxt(aff, mode, end=end)\n",
    "    return x_offset, x_offset + diameter\n",
    "\n",
    "aff = rotate_af(af, 0.6, -2)\n",
    "aff = range_af(af, 150)\n",
    "x_offset = 10\n",
    "y_offset = 500 * np.tan(5.5 * np.pi / 180)\n",
    "aff += np.array([x_offset, y_offset])\n",
    "aff = expand_z(aff, 500)"
   ]
  },
  {
   "cell_type": "code",
   "execution_count": 324,
   "metadata": {},
   "outputs": [
    {
     "data": {
      "text/plain": [
       "142.5"
      ]
     },
     "execution_count": 324,
     "metadata": {},
     "output_type": "execute_result"
    }
   ],
   "source": [
    "root = 180\n",
    "tip = 0.2\n",
    "span = 7.5\n",
    "angle = 0.0\n",
    "flappose = 0.65\n",
    "\n",
    "def cal_offset(x, y, root, flappose, angle, offset = 0):\n",
    "    rootflap = root * flappose\n",
    "    x_flap = rootflap + np.tan(angle) * y\n",
    "    d = x_flap - x * (flappose - offset)\n",
    "    return d\n",
    "\n",
    "offsets = {}\n",
    "n = 0\n",
    "for i in np.linspace(20, 180, 17):\n",
    "    offsets[f'{i:.1f}'] = cal_offset(i, 4, root, flappose, angle)\n",
    "    n += 1\n",
    "\n",
    "offsets\n",
    "cal_offset(30, 750, root, flappose, angle, offset=1.5)"
   ]
  },
  {
   "cell_type": "code",
   "execution_count": 351,
   "metadata": {},
   "outputs": [
    {
     "name": "stdout",
     "output_type": "stream",
     "text": [
      "synergy2/20100901-5f tip +2.dat 20100901-5f tip\n",
      "synergy2/20120105-25-20 +2.dat 20120105-25-20\n",
      "synergy2/20120105-50T85 +2.dat 20120105-50T85\n",
      "synergy2/20120105-60T85 +2.dat 20120105-60T85\n",
      "synergy2/20140417-30 +2.dat 20140417-30\n",
      "synergy2/20140417-35 +2.dat 20140417-35\n",
      "synergy2/20140417-40 +2.dat 20140417-40\n",
      "synergy2/20140417-45 +2.dat 20140417-45\n",
      "synergy2/20140417-47.5 +2.dat 20140417-47.5\n",
      "synergy2/20140417-49 +2.dat 20140417-49\n",
      "synergy2/20140417-50 +2.dat 20140417-50\n",
      "synergy2/20140424-35 +2.dat 20140424-35\n",
      "synergy2/20140430-20 +2.dat 20140430-20\n",
      "synergy2/20140501-20 +2.dat 20140501-20\n",
      "synergy2/20140501b-20 +2.dat 20140501b-20\n",
      "synergy2/20140504-35 +2.dat 20140504-35\n",
      "synergy2/20140520-40 +2.dat 20140520-40\n",
      "synergy2/424-35+430-20 +2.dat 424-35+430-20\n"
     ]
    }
   ],
   "source": [
    "import re\n",
    "import os\n",
    "dat = re.compile('.dat')\n",
    "# dat = re.compile('airfoil.*\\.dat')\n",
    "root = 'synergy2/'\n",
    "\n",
    "airfoils = {}\n",
    "for path, dir, files in os.walk(root):\n",
    "    for file in files:\n",
    "        if dat.search(file) is not None:\n",
    "            airfoils['{}{}'.format(path,file)] = file.split(' +')[0]\n",
    "\n",
    "files.sort()\n",
    "afs = {}\n",
    "for file in airfoils.keys():\n",
    "    points = file\n",
    "    name = airfoils[file]\n",
    "    print(points, name)\n",
    "    airfoil = np.loadtxt(points, skiprows=1)\n",
    "    # af = interpolate(airfoil, 256, 3)\n",
    "    af = setdownflap(airfoil, -2, 0.7)\n",
    "    af = setdownflap(af, theta=2, pose=0.65)\n",
    "    # af = interpolate(airfoil, 256, 3)\n",
    "    afs[name] = af"
   ]
  },
  {
   "cell_type": "code",
   "execution_count": 388,
   "metadata": {},
   "outputs": [
    {
     "data": {
      "image/png": "[encoded data removed]",
      "text/plain": [
       "<Figure size 640x480 with 1 Axes>"
      ]
     },
     "metadata": {},
     "output_type": "display_data"
    }
   ],
   "source": [
    "x1s = []\n",
    "x2s = []\n",
    "x = [0, 210, 340, 425, 500, 555, 600, 630, 680, 710, 745]\n",
    "aff = np.copy(afs['20120105-60T85'])\n",
    "x1,x2 = writeairfoil(aff, 0.65, x[0], 180, twist=0, root=180, mode='w')\n",
    "x1s.append(x1)\n",
    "x2s.append(x2)\n",
    "aff = np.copy(afs['20140417-49'])\n",
    "x1,x2 = writeairfoil(aff, 0.65, x[1], 170, twist=0, root=180, mode='a')\n",
    "x1s.append(x1)\n",
    "x2s.append(x2)\n",
    "aff = np.copy(afs['20140417-47.5'])\n",
    "x1,x2 = writeairfoil(aff, 0.65, x[2], 160, twist=0, root=180, mode='a')\n",
    "x1s.append(x1)\n",
    "x2s.append(x2)\n",
    "aff = np.copy(afs['20140417-45'])\n",
    "x1,x2 = writeairfoil(aff, 0.65, x[3], 150, twist=0, root=180, mode='a')\n",
    "x1s.append(x1)\n",
    "x2s.append(x2)\n",
    "aff = np.copy(afs['20140417-40'])\n",
    "x1,x2 = writeairfoil(aff, 0.65, x[4], 140, twist=0, root=180, mode='a')\n",
    "x1s.append(x1)\n",
    "x2s.append(x2)\n",
    "aff = np.copy(afs['20140417-35'])\n",
    "x1,x2 = writeairfoil(aff, 0.65, x[5], 130, twist=0, root=180, mode='a')\n",
    "x1s.append(x1)\n",
    "x2s.append(x2)\n",
    "aff = np.copy(afs['20140417-30'])\n",
    "x1,x2 = writeairfoil(aff, 0.65, x[6], 120, twist=0, root=180, mode='a')\n",
    "x1s.append(x1)\n",
    "x2s.append(x2)\n",
    "aff = np.copy(afs['20120105-25-20'])\n",
    "x1,x2 = writeairfoil(aff, 0.65, x[7], 110, twist=0, root=180, mode='a')\n",
    "x1s.append(x1)\n",
    "x2s.append(x2)\n",
    "aff = np.copy(afs['20100901-5f tip'])\n",
    "x1,x2 = writeairfoil(aff, 0.65, x[8], 90, twist=0, root=180, offset=0.02, mode='a')\n",
    "x1s.append(x1)\n",
    "x2s.append(x2)\n",
    "aff = np.copy(afs['20100901-5f tip'])\n",
    "x1,x2 = writeairfoil(aff, 0.65, x[9], 70, twist=0, root=180, offset=0.06, mode='a')\n",
    "x1s.append(x1)\n",
    "x2s.append(x2)\n",
    "aff = np.copy(afs['20100901-5f tip'])\n",
    "x1,x2 = writeairfoil(aff, 0.65, x[10], 30, twist=0, root=180, offset=0.36, mode='a', end=True)\n",
    "x1s.append(x1)\n",
    "x2s.append(x2)\n",
    "fig, axs = plt.subplots(1, 1)\n",
    "axs.plot(x,x1s)\n",
    "axs.plot(x,x2s)\n",
    "axs.set_aspect('equal', 'box')\n",
    "fig.tight_layout()\n",
    "plt.show()\n",
    "txt2xlsx()"
   ]
  },
  {
   "cell_type": "code",
   "execution_count": 244,
   "metadata": {},
   "outputs": [],
   "source": [
    "aff = np.copy(afs['20140417-49'])\n",
    "span = 200\n",
    "aff = derotate(aff)\n",
    "aff = rotate_af(af, 0.6, -0.1)\n",
    "aff = range_af(af, 170)\n",
    "x_offset = offsets['1.7'] * 100\n",
    "y_offset = span * np.tan(5.5 * np.pi / 180)\n",
    "aff += np.array([x_offset, y_offset])\n",
    "aff = expand_z(aff, span)\n",
    "writetxt(aff)"
   ]
  },
  {
   "cell_type": "code",
   "execution_count": 245,
   "metadata": {},
   "outputs": [],
   "source": [
    "aff = np.copy(afs['20140417-49'])\n",
    "span = 340\n",
    "aff = derotate(aff)\n",
    "aff = rotate_af(af, 0.6, -0.15)\n",
    "aff = range_af(af, 160)\n",
    "x_offset = offsets['1.6'] * 100\n",
    "y_offset = span * np.tan(5.5 * np.pi / 180)\n",
    "aff += np.array([x_offset, y_offset])\n",
    "aff = expand_z(aff, span)\n",
    "writetxt(aff)"
   ]
  },
  {
   "cell_type": "code",
   "execution_count": 246,
   "metadata": {},
   "outputs": [],
   "source": [
    "aff = np.copy(afs['20140417-47.5'])\n",
    "span = 420\n",
    "aff = derotate(aff)\n",
    "aff = rotate_af(af, 0.6, -0.2)\n",
    "aff = range_af(af, 150)\n",
    "x_offset = offsets['1.5'] * 100\n",
    "y_offset = span * np.tan(5.5 * np.pi / 180)\n",
    "aff += np.array([x_offset, y_offset])\n",
    "aff = expand_z(aff, span)\n",
    "writetxt(aff)"
   ]
  },
  {
   "cell_type": "code",
   "execution_count": 247,
   "metadata": {},
   "outputs": [],
   "source": [
    "aff = np.copy(afs['20140417-45'])\n",
    "span = 500\n",
    "aff = derotate(aff)\n",
    "aff = rotate_af(af, 0.6, -0.25)\n",
    "aff = range_af(af, 140)\n",
    "x_offset = offsets['1.4'] * 100\n",
    "y_offset = span * np.tan(5.5 * np.pi / 180)\n",
    "aff += np.array([x_offset, y_offset])\n",
    "aff = expand_z(aff, span)\n",
    "writetxt(aff)"
   ]
  },
  {
   "cell_type": "code",
   "execution_count": 248,
   "metadata": {},
   "outputs": [],
   "source": [
    "aff = np.copy(afs['20140417-40'])\n",
    "span = 570\n",
    "aff = derotate(aff)\n",
    "aff = rotate_af(af, 0.6, -0.3)\n",
    "aff = range_af(af, 130)\n",
    "x_offset = offsets['1.3'] * 100\n",
    "y_offset = span * np.tan(5.5 * np.pi / 180)\n",
    "aff += np.array([x_offset, y_offset])\n",
    "aff = expand_z(aff, span)\n",
    "writetxt(aff)"
   ]
  },
  {
   "cell_type": "code",
   "execution_count": 249,
   "metadata": {},
   "outputs": [],
   "source": [
    "aff = np.copy(afs['20140417-35'])\n",
    "span = 600\n",
    "aff = derotate(aff)\n",
    "aff = rotate_af(af, 0.6, -0.4)\n",
    "aff = range_af(af, 120)\n",
    "x_offset = offsets['1.2'] * 100\n",
    "y_offset = span * np.tan(5.5 * np.pi / 180)\n",
    "aff += np.array([x_offset, y_offset])\n",
    "aff = expand_z(aff, span)\n",
    "writetxt(aff)"
   ]
  },
  {
   "cell_type": "code",
   "execution_count": 250,
   "metadata": {},
   "outputs": [],
   "source": [
    "aff = np.copy(afs['20140417-30'])\n",
    "span = 660\n",
    "aff = derotate(aff)\n",
    "aff = rotate_af(af, 0.6, -0.5)\n",
    "aff = range_af(af, 110)\n",
    "x_offset = offsets['1.1'] * 100\n",
    "y_offset = span * np.tan(5.5 * np.pi / 180)\n",
    "aff += np.array([x_offset, y_offset])\n",
    "aff = expand_z(aff, span)\n",
    "writetxt(aff)"
   ]
  }
 ],
 "metadata": {
  "kernelspec": {
   "display_name": "pytorch",
   "language": "python",
   "name": "python3"
  },
  "language_info": {
   "codemirror_mode": {
    "name": "ipython",
    "version": 3
   },
   "file_extension": ".py",
   "mimetype": "text/x-python",
   "name": "python",
   "nbconvert_exporter": "python",
   "pygments_lexer": "ipython3",
   "version": "3.10.6"
  }
 },
 "nbformat": 4,
 "nbformat_minor": 2
}
