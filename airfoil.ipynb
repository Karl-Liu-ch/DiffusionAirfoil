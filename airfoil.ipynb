{
 "cells": [
  {
   "cell_type": "code",
   "execution_count": 6,
   "metadata": {},
   "outputs": [
    {
     "data": {
      "image/png": "[encoded data removed]",
      "text/plain": [
       "<Figure size 640x480 with 1 Axes>"
      ]
     },
     "metadata": {},
     "output_type": "display_data"
    },
    {
     "data": {
      "text/plain": [
       "45.253675485416764"
      ]
     },
     "execution_count": 6,
     "metadata": {},
     "output_type": "execute_result"
    }
   ],
   "source": [
    "from utils import *\n",
    "af = np.loadtxt('samplesP5B/Airfoils1D_58899_0.70_0.dat', skiprows=1)\n",
    "# af[:,1] *= 0.058/cal_thickness(af)\n",
    "af = interpolate(af, 400, 3)\n",
    "# af = setdownflap(af, -2, 0.7)\n",
    "# af = setdownflap(af, theta=2, pose=0.65)\n",
    "show_airfoil(af)\n",
    "mass = 0.32\n",
    "area = 0.2254\n",
    "d = 0.155\n",
    "perf = type2_simu(af, mass, d, area)\n",
    "perf"
   ]
  },
  {
   "cell_type": "code",
   "execution_count": null,
   "metadata": {},
   "outputs": [],
   "source": [
    "from utils import *\n",
    "af = np.loadtxt('samplesP5B/DiffusionAirfoil1DTransform_72152_0.70_4.dat', skiprows=1)\n",
    "af[:,1] *= 0.058/cal_thickness(af)\n",
    "af = interpolate(af, 400, 3)\n",
    "show_airfoil(af)\n",
    "mass = 0.32\n",
    "area = 0.2254\n",
    "d = 0.155\n",
    "perf = type2_simu(af, mass, d, area)\n",
    "perf"
   ]
  },
  {
   "cell_type": "code",
   "execution_count": null,
   "metadata": {},
   "outputs": [],
   "source": [
    "root = 1.8\n",
    "tip = 0.2\n",
    "span = 7.5\n",
    "angle = 0.0\n",
    "flappose = 0.35\n",
    "\n",
    "def cal_offset(x, y, root, flappose, angle):\n",
    "    rootflap = root * (1-flappose)\n",
    "    x_flap = rootflap + np.tan(angle) * y\n",
    "    d = x_flap - x * (1-flappose)\n",
    "    return d\n",
    "\n",
    "offsets = np.zeros([17,2])\n",
    "n = 0\n",
    "for i in np.linspace(0.2, 1.8, 17):\n",
    "    offsets[n,0] = i\n",
    "    offsets[n,1] = cal_offset(i, 4, root, flappose, angle)\n",
    "    n += 1\n",
    "\n",
    "offsets"
   ]
  },
  {
   "cell_type": "code",
   "execution_count": null,
   "metadata": {},
   "outputs": [],
   "source": [
    "x = np.linspace(0,0.9,10)\n",
    "y = (-(np.cos(np.pi - x * 0.5 * np.pi))) ** 0.8\n",
    "plt.plot(x,y)\n",
    "y * 7.5"
   ]
  },
  {
   "cell_type": "code",
   "execution_count": null,
   "metadata": {},
   "outputs": [],
   "source": [
    "airfoil = np.loadtxt('BETTER/20150114-50 +2 d.dat', skiprows=1)\n",
    "airfoil = derotate(airfoil)\n",
    "lh_idx = np.argmin(airfoil[:,0])\n",
    "lh_x = airfoil[lh_idx, 0]\n",
    "# Get trailing head\n",
    "th_x = np.minimum(airfoil[0,0], airfoil[-1,0])\n",
    "# Interpolate\n",
    "f_up = interp1d(airfoil[:lh_idx+1,0], airfoil[:lh_idx+1,1], kind = 'cubic')\n",
    "f_low = interp1d(airfoil[lh_idx:,0], airfoil[lh_idx:,1], kind = 'cubic')\n",
    "xx = np.linspace(lh_x, th_x, num=1000)\n",
    "yy_up = f_up(xx)\n",
    "yy_low = f_low(xx)"
   ]
  },
  {
   "cell_type": "code",
   "execution_count": null,
   "metadata": {},
   "outputs": [],
   "source": [
    "theta = -2 * np.pi / 180\n",
    "c = np.cos(theta)\n",
    "s = np.sin(theta)\n",
    "R = np.array([[c, -s], [s, c]])\n",
    "pose = 0.7\n",
    "af_down = np.zeros([1000, 2])\n",
    "af_down[:,0] = xx\n",
    "af_down[:,1] = yy_low\n",
    "_i = yy_low.argmax()-12\n",
    "flap = af_down[_i:,:]\n",
    "flap_new = flap - flap[0,:]\n",
    "flap_new = np.matmul(flap_new, R) + flap[0,:]\n",
    "af_down_new = np.copy(af_down)\n",
    "af_down_new[_i:,:] = np.copy(flap_new)\n",
    "xhat, yhat = savgol_filter((af_down_new[500:,0], af_down_new[500:,1]), 100, 3)\n",
    "af_down_new[500:,0] = xhat\n",
    "af_down_new[500:,1] = yhat\n",
    "plt.plot(af_down_new[:,0], af_down_new[:,1])\n",
    "plt.plot(af_down[:,0], af_down[:,1])"
   ]
  },
  {
   "cell_type": "code",
   "execution_count": null,
   "metadata": {},
   "outputs": [],
   "source": [
    "theta = np.arctan2(af_down_new[-1,1] - af_down[-1,1], 1)\n",
    "c = np.cos(theta)\n",
    "s = np.sin(theta)\n",
    "R = np.array([[c, -s], [s, c]])\n",
    "af_down_new = np.matmul(af_down_new, R)\n",
    "plt.plot(af_down_new[:,0], af_down_new[:,1])\n",
    "plt.plot(af_down[:,0], af_down[:,1])"
   ]
  },
  {
   "cell_type": "code",
   "execution_count": null,
   "metadata": {},
   "outputs": [],
   "source": [
    "af_up = np.zeros([1000, 2])\n",
    "af_up[:,0] = np.flip(xx)\n",
    "af_up[:,1] = np.flip(yy_up)\n",
    "af = np.zeros([1999,2])\n",
    "af[:1000,:] = af_up\n",
    "af[1000:,:] = af_down_new[1:,:]\n",
    "af = interpolate(af, 256, 3)\n",
    "show_airfoil(af)"
   ]
  },
  {
   "cell_type": "code",
   "execution_count": null,
   "metadata": {},
   "outputs": [],
   "source": [
    "airfoil = derotate(af)\n",
    "lh_idx = np.argmin(airfoil[:,0])\n",
    "lh_x = airfoil[lh_idx, 0]\n",
    "# Get trailing head\n",
    "th_x = np.minimum(airfoil[0,0], airfoil[-1,0])\n",
    "# Interpolate\n",
    "f_up = interp1d(airfoil[:lh_idx+1,0], airfoil[:lh_idx+1,1], kind = 'cubic')\n",
    "f_low = interp1d(airfoil[lh_idx:,0], airfoil[lh_idx:,1], kind = 'cubic')\n",
    "xx = np.linspace(lh_x, th_x, num=1000)\n",
    "yy_up = f_up(xx)\n",
    "yy_low = f_low(xx)\n",
    "theta = 2 * np.pi / 180\n",
    "c = np.cos(theta)\n",
    "s = np.sin(theta)\n",
    "R = np.array([[c, -s], [s, c]])\n",
    "pose = 0.65\n",
    "af_down = np.zeros([1000, 2])\n",
    "af_down[:,0] = xx\n",
    "af_down[:,1] = yy_low\n",
    "_i = int(pose * 1000)\n",
    "flap = af_down[_i:,:]\n",
    "flap_new = flap - flap[0,:]\n",
    "flap_new = np.matmul(flap_new, R) + flap[0,:]\n",
    "af_down_new = np.copy(af_down)\n",
    "af_down_new[_i:,:] = np.copy(flap_new)\n",
    "plt.plot(af_down_new[:,0], af_down_new[:,1])\n",
    "plt.plot(af_down[:,0], af_down[:,1])"
   ]
  },
  {
   "cell_type": "code",
   "execution_count": null,
   "metadata": {},
   "outputs": [],
   "source": [
    "\n",
    "lh_idx = np.argmin(airfoil[:,0])\n",
    "lh_x = airfoil[lh_idx, 0]\n",
    "# Get trailing head\n",
    "th_x = np.minimum(airfoil[0,0], airfoil[-1,0])\n",
    "# Interpolate\n",
    "f_up = interp1d(airfoil[:lh_idx+1,0], airfoil[:lh_idx+1,1], kind = 'cubic')\n",
    "f_low = interp1d(airfoil[lh_idx:,0], airfoil[lh_idx:,1], kind = 'cubic')\n",
    "xx = np.linspace(lh_x, th_x, num=1000)\n",
    "yy_up = f_up(xx)\n",
    "yy_low = f_low(xx)"
   ]
  },
  {
   "cell_type": "code",
   "execution_count": null,
   "metadata": {},
   "outputs": [],
   "source": [
    "theta = np.arctan2(af_down_new[-1,1] - af_down[-1,1], 1)\n",
    "c = np.cos(theta)\n",
    "s = np.sin(theta)\n",
    "R = np.array([[c, -s], [s, c]])\n",
    "af_down_new = np.matmul(af_down_new, R)\n",
    "plt.plot(af_down_new[:,0], af_down_new[:,1])\n",
    "plt.plot(af_down[:,0], af_down[:,1])"
   ]
  },
  {
   "cell_type": "code",
   "execution_count": null,
   "metadata": {},
   "outputs": [],
   "source": [
    "af_up = np.zeros([1000, 2])\n",
    "af_up[:,0] = np.flip(xx)\n",
    "af_up[:,1] = np.flip(yy_up)\n",
    "af = np.zeros([1999,2])\n",
    "af[:1000,:] = af_up\n",
    "af[1000:,:] = af_down_new[1:,:]\n",
    "af = interpolate(af, 256, 3)\n",
    "show_airfoil(af)"
   ]
  },
  {
   "cell_type": "code",
   "execution_count": null,
   "metadata": {},
   "outputs": [],
   "source": [
    "from utils import *\n",
    "\n",
    "def setdownflap(airfoil, theta=2, pose=0.65):\n",
    "    lh_idx = np.argmin(airfoil[:,0])\n",
    "    theta = theta * np.pi / 180\n",
    "    c = np.cos(theta)\n",
    "    s = np.sin(theta)\n",
    "    R = np.array([[c, -s], [s, c]])\n",
    "    af_down = airfoil[lh_idx:,:]\n",
    "    _i = np.abs(af_down[:,0] - pose).argmin()\n",
    "    flap = af_down[_i:,:]\n",
    "    flap = smooth_line(flap, flap.shape[0], 3)\n",
    "    flap_new = flap - flap[0,:]\n",
    "    flap_new = np.matmul(flap_new, R) + flap[0,:]\n",
    "    af_down_new = np.copy(af_down)\n",
    "    af_down_new[_i:,:] = np.copy(flap_new)\n",
    "    theta = np.arctan2(af_down_new[-1,1] - af_down[-1,1], 1)\n",
    "    c = np.cos(theta)\n",
    "    s = np.sin(theta)\n",
    "    R = np.array([[c, -s], [s, c]])\n",
    "    af_down_new = np.matmul(af_down_new, R)\n",
    "    af = np.zeros_like(airfoil)\n",
    "    af[:lh_idx,:] = airfoil[:lh_idx,:]\n",
    "    af[lh_idx:,:] = af_down_new\n",
    "    return af\n",
    "\n",
    "def setupflap(airfoil, theta=-2, pose=0.65):\n",
    "    lh_idx = np.argmin(airfoil[:,0])\n",
    "    theta = theta * np.pi / 180\n",
    "    c = np.cos(theta)\n",
    "    s = np.sin(theta)\n",
    "    R = np.array([[c, -s], [s, c]])\n",
    "    af_up = airfoil[:lh_idx,:]\n",
    "    _i = np.abs(af_up[:,0] - pose).argmin()\n",
    "    flap = af_up[:_i,:]\n",
    "    flap = smooth_line(flap, flap.shape[0], 3)\n",
    "    flap_new = flap - flap[-1,:]\n",
    "    flap_new = np.matmul(flap_new, R) + flap[-1,:]\n",
    "    af_up_new = np.copy(af_up)\n",
    "    af_up_new[:_i,:] = np.copy(flap_new)\n",
    "    theta = np.arctan2(af_up_new[0,1] - af_up[0,1], 1)\n",
    "    c = np.cos(theta)\n",
    "    s = np.sin(theta)\n",
    "    R = np.array([[c, -s], [s, c]])\n",
    "    af_up_new = np.matmul(af_up_new, R)\n",
    "    af = np.zeros_like(airfoil)\n",
    "    af[lh_idx:,:] = airfoil[lh_idx:,:]\n",
    "    af[:lh_idx,:] = af_up_new\n",
    "    return af\n",
    "\n",
    "def smooth_line(Q, N, k, D=20, resolution=1000):\n",
    "    ''' Interpolate N points whose concentration is based on curvature. '''\n",
    "    res, fp, ier, msg = splprep(Q.T, u=None, k=k, s=1e-6, per=0, full_output=1)\n",
    "    tck, u = res\n",
    "    uu = np.linspace(u.min(), u.max(), resolution)\n",
    "    x, y = splev(uu, tck, der=0)\n",
    "    dx, dy = splev(uu, tck, der=1)\n",
    "    ddx, ddy = splev(uu, tck, der=2)\n",
    "    cv = np.abs(ddx*dy - dx*ddy)/(dx*dx + dy*dy)**1.5 + D\n",
    "    cv_int = cumtrapz(cv, uu, initial=0)\n",
    "    fcv = interp1d(cv_int, uu)\n",
    "    cv_int_samples = np.linspace(0, cv_int.max(), N)\n",
    "    u_new = fcv(cv_int_samples)\n",
    "    x_new, y_new = splev(u_new, tck, der=0)\n",
    "    xy_new = np.vstack((x_new, y_new)).T\n",
    "    return xy_new\n"
   ]
  },
  {
   "cell_type": "code",
   "execution_count": null,
   "metadata": {},
   "outputs": [],
   "source": [
    "airfoil = np.loadtxt('BETTER/20150114-50 +2 d.dat', skiprows=1)\n",
    "airfoil = interpolate(airfoil, 256, 3)\n",
    "show_airfoil(airfoil)\n",
    "af = setdownflap(airfoil, -2, 0.7)\n",
    "show_airfoil(af)\n",
    "af = setupflap(af, theta=3, pose=0.6)\n",
    "af = interpolate(af, 256, 3)\n",
    "show_airfoil(af)"
   ]
  },
  {
   "cell_type": "code",
   "execution_count": null,
   "metadata": {},
   "outputs": [],
   "source": [
    "airfoil = np.loadtxt('synergy2_60+3/20120105-60T85_0.6+3.dat', skiprows=1)\n",
    "airfoil = interpolate(airfoil, 256, 3)"
   ]
  },
  {
   "cell_type": "code",
   "execution_count": null,
   "metadata": {},
   "outputs": [],
   "source": [
    "lh_idx = np.argmin(af[:,0])\n",
    "lh_x = af[lh_idx, 0]\n",
    "# Get trailing head\n",
    "th_x = np.minimum(af[0,0], af[-1,0])\n",
    "# Interpolate\n",
    "f_up = interp1d(af[:lh_idx+1,0], af[:lh_idx+1,1])\n",
    "f_low = interp1d(af[lh_idx:,0], af[lh_idx:,1])\n",
    "xx = np.linspace(lh_x, th_x, num=1000)\n",
    "yy_up = f_up(xx)\n",
    "yy_low = f_low(xx)\n",
    "plt.plot(xx[:],yy_low[:])\n",
    "\n",
    "lh_idx = np.argmin(airfoil[:,0])\n",
    "lh_x = airfoil[lh_idx, 0]\n",
    "# Get trailing head\n",
    "th_x = np.minimum(airfoil[0,0], airfoil[-1,0])\n",
    "# Interpolate\n",
    "f_up = interp1d(airfoil[:lh_idx+1,0], airfoil[:lh_idx+1,1])\n",
    "f_low = interp1d(airfoil[lh_idx:,0], airfoil[lh_idx:,1])\n",
    "xx = np.linspace(lh_x, th_x, num=1000)\n",
    "yy_up = f_up(xx)\n",
    "yy_low = f_low(xx)\n",
    "plt.plot(xx[:],yy_low[:])"
   ]
  },
  {
   "cell_type": "code",
   "execution_count": null,
   "metadata": {},
   "outputs": [],
   "source": [
    "mass = 0.22\n",
    "d = 0.135\n",
    "area = 0.194\n",
    "perf = type2_simu(airfoil, mass, d, area)\n",
    "perf"
   ]
  },
  {
   "cell_type": "code",
   "execution_count": null,
   "metadata": {},
   "outputs": [],
   "source": [
    "perf = type2_simu(af, mass, d, area)\n",
    "perf"
   ]
  },
  {
   "cell_type": "code",
   "execution_count": null,
   "metadata": {},
   "outputs": [],
   "source": [
    "airfoil = np.loadtxt('samplesP5B/Airfoils2D_72152_0.70_1.dat', skiprows=1)\n",
    "airfoil[:,1] = airfoil[:,1] * 0.06 / cal_thickness(airfoil)\n",
    "airfoil = setdownflap(airfoil, theta=2, pose=0.6)\n",
    "show_airfoil(airfoil)\n",
    "perf = type2_simu(airfoil, mass, d, area)\n",
    "perf"
   ]
  },
  {
   "cell_type": "code",
   "execution_count": null,
   "metadata": {},
   "outputs": [],
   "source": [
    "check_backpoint(airfoil), cal_thickness(airfoil)"
   ]
  },
  {
   "cell_type": "code",
   "execution_count": null,
   "metadata": {},
   "outputs": [],
   "source": [
    "import re\n",
    "import os\n",
    "dat = re.compile('.dat')\n",
    "# dat = re.compile('airfoil.*\\.dat')\n",
    "root = 'synergy2/'\n",
    "\n",
    "airfoils = {}\n",
    "for path, dir, files in os.walk(root):\n",
    "    for file in files:\n",
    "        if dat.search(file) is not None:\n",
    "            airfoils['{}{}'.format(path,file)] = file.split(' +')[0]\n",
    "\n",
    "files.sort()\n",
    "for file in airfoils.keys():\n",
    "    points = file\n",
    "    name = airfoils[file]\n",
    "    print(points, name)\n",
    "    airfoil = np.loadtxt(points, skiprows=1)\n",
    "    af = setdownflap(airfoil, -2, 0.7)\n",
    "    af = setdownflap(af, theta=2, pose=0.65)\n",
    "    np.savetxt('synergy2_65/'+name+'_0.65+2.dat', af, header=name+'_0.65+2', comments=\"\")"
   ]
  },
  {
   "cell_type": "code",
   "execution_count": null,
   "metadata": {},
   "outputs": [],
   "source": [
    "airfoil = np.loadtxt('BETTER/20150114-50 +2 d.dat', skiprows=1)\n",
    "def interpolate(airfoil, points = 256):\n",
    "    af = np.copy(airfoil)\n",
    "    lh_idx = np.argmin(af[:,0])\n",
    "    lh_x = af[lh_idx, 0]\n",
    "    th_x = np.minimum(af[0,0], af[-1,0])\n",
    "    f_up = interp1d(airfoil[:lh_idx+1,0], airfoil[:lh_idx+1,1], kind='linear')\n",
    "    f_low = interp1d(airfoil[lh_idx:,0], airfoil[lh_idx:,1], kind='linear')\n",
    "    x = np.linspace(0,1,points//2)\n",
    "    xx_down = ((np.cos(np.pi + x * np.pi) + 1) / 2) ** 1.2 * (th_x - lh_x - 1e-10) + lh_x\n",
    "    x = np.linspace(0,1,points//2+1)\n",
    "    xx_up = ((np.cos(np.pi + x * np.pi) + 1) / 2) ** 1.2 * (th_x - lh_x - 1e-10) + lh_x\n",
    "    # xx = np.linspace(lh_x, th_x, num=1000)\n",
    "    yy_low = f_low(xx_down)\n",
    "    yy_up = f_up(xx_up)\n",
    "    aff = np.zeros([points,2])\n",
    "    aff[:points//2,0] = np.flip(xx_up[1:])\n",
    "    aff[:points//2,1] = np.flip(yy_up[1:])\n",
    "    aff[points//2:,0] = xx_down\n",
    "    aff[points//2:,1] = yy_low\n",
    "    return aff\n",
    "\n",
    "aff = interpolate(airfoil, 300)\n",
    "show_airfoil(airfoil)\n",
    "show_airfoil(aff)\n",
    "plt.plot(airfoil[120:140,0], airfoil[120:140,1])\n",
    "plt.plot(aff[100:160,0], aff[100:160,1])"
   ]
  },
  {
   "cell_type": "code",
   "execution_count": null,
   "metadata": {},
   "outputs": [],
   "source": [
    "x = np.linspace(0,1,128)\n",
    "y = (np.cos(np.pi + x * np.pi) + 1) / 2\n",
    "plt.plot(x,y ** 1.5)"
   ]
  },
  {
   "cell_type": "code",
   "execution_count": 4,
   "metadata": {},
   "outputs": [
    {
     "data": {
      "text/plain": [
       "49264.19270267523"
      ]
     },
     "execution_count": 4,
     "metadata": {},
     "output_type": "execute_result"
    }
   ],
   "source": [
    "import numpy as np\n",
    "\n",
    "def type2_resqrtcl(mass, diameter, area):\n",
    "    g = 9.806\n",
    "    viscosity = 1.5e-5\n",
    "    density = 1.225\n",
    "    re_sqrtcl = np.sqrt(2 * mass * g / density / area) * diameter / viscosity\n",
    "    return re_sqrtcl\n",
    "\n",
    "mass = 0.32\n",
    "area = 0.2254\n",
    "d = 0.155\n",
    "\n",
    "type2_resqrtcl(mass, d, area)"
   ]
  }
 ],
 "metadata": {
  "kernelspec": {
   "display_name": "pytorch",
   "language": "python",
   "name": "python3"
  },
  "language_info": {
   "codemirror_mode": {
    "name": "ipython",
    "version": 3
   },
   "file_extension": ".py",
   "mimetype": "text/x-python",
   "name": "python",
   "nbconvert_exporter": "python",
   "pygments_lexer": "ipython3",
   "version": "3.11.2"
  }
 },
 "nbformat": 4,
 "nbformat_minor": 2
}
