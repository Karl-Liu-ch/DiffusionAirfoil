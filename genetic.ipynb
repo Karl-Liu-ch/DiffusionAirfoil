{
 "cells": [
  {
   "cell_type": "code",
   "execution_count": null,
   "metadata": {},
   "outputs": [],
   "source": [
    "import numpy as np\n",
    "from utils import *\n",
    "import matplotlib.pyplot as plt\n",
    "\n",
    "points = 'results/airfoilPPO.dat'\n",
    "airfoil = np.loadtxt(points, skiprows=1)\n",
    "af, R, a, b, perf, cd, CD_BL = lowestD(airfoil, lamda = LAMBDA)\n",
    "name = points.split('/')[1].split('.')[0]+f'_{a}_{b}F'\n",
    "np.savetxt(points.split('.')[0]+f'_{a}_{b}F'+'.dat', af, header=points.split('/')[1].split('.')[0]+f'_{a}_{b}F', comments=\"\")\n",
    "\n",
    "R, a, b, perf, cd, CD_BL"
   ]
  }
 ],
 "metadata": {
  "kernelspec": {
   "display_name": "pytorch",
   "language": "python",
   "name": "python3"
  },
  "language_info": {
   "codemirror_mode": {
    "name": "ipython",
    "version": 3
   },
   "file_extension": ".py",
   "mimetype": "text/x-python",
   "name": "python",
   "nbconvert_exporter": "python",
   "pygments_lexer": "ipython3",
   "version": "3.11.2"
  }
 },
 "nbformat": 4,
 "nbformat_minor": 2
}
