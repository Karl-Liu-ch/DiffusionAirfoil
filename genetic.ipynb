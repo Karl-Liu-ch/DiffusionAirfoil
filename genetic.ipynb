{
 "cells": [
  {
   "cell_type": "code",
   "execution_count": 1,
   "metadata": {},
   "outputs": [],
   "source": [
    "import numpy as np\n",
    "from utils import *\n",
    "import matplotlib.pyplot as plt\n",
    "import re\n",
    "LAMBDA = 10"
   ]
  },
  {
   "cell_type": "code",
   "execution_count": 2,
   "metadata": {},
   "outputs": [
    {
     "name": "stdout",
     "output_type": "stream",
     "text": [
      "R: 0.06492305919528008, angle: -2.0, pose: 0.7, perf: 38.907280716659244, cruise cd: 0.01670638471841812, launch cd: 0.004821667447686195\n"
     ]
    },
    {
     "data": {
      "image/png": "[encoded data removed]",
      "text/plain": [
       "<Figure size 640x480 with 1 Axes>"
      ]
     },
     "metadata": {},
     "output_type": "display_data"
    },
    {
     "name": "stdout",
     "output_type": "stream",
     "text": [
      "intersection: False, thickness: 0.05890577794639864, thickness pose: 21.2, tail cross pose: 0\n"
     ]
    }
   ],
   "source": [
    "points = 'samples/DiffusionAirfoil1DTransform_000.dat'\n",
    "airfoil = np.loadtxt(points, skiprows=1)\n",
    "af, R, a, b, perf, cd, CD_BL = lowestD(airfoil, Re2= 401000, lamda = LAMBDA, check_thickness=False)\n",
    "name = points.split('/')[1].split('.')[0]+f'_{a}_{b}F'\n",
    "np.savetxt(points.split('.')[0]+f'_{a}_{b}F'+'.dat', af, header=points.split('/')[1].split('.')[0]+f'_{a}_{b}F', comments=\"\")\n",
    "print(f'R: {R}, angle: {a}, pose: {b}, perf: {perf}, cruise cd: {cd}, launch cd: {CD_BL}')\n",
    "show_airfoil(af)\n",
    "print(f'intersection: {detect_intersect(af)}, thickness: {cal_thickness(af)}, thickness pose: {cal_thickness_percent(af)}, tail cross pose: {check_backpoint(af)}')"
   ]
  },
  {
   "cell_type": "code",
   "execution_count": null,
   "metadata": {},
   "outputs": [],
   "source": [
    "perffile = 'results/Airfoils1D_simperf.log'\n",
    "f = open(perffile, 'r')\n",
    "p = re.compile('perf: ')\n",
    "perfs = []\n",
    "airfoils = []\n",
    "Rs = []\n",
    "for line in f:\n",
    "    if p.search(line):\n",
    "        perf = line.split('perf: ')[1].split(', R: ')[0]\n",
    "        perf = float(perf)\n",
    "        perfs.append(perf)\n",
    "        R = line.split(', R: ')[1].split(', m: ')[0]\n",
    "        R = float(R)\n",
    "        Rs.append(R)\n",
    "        airfoilfile = line.split(', path: ')[1]\n",
    "        airfoils.append(airfoilfile)\n",
    "\n",
    "perfs = np.array(perfs)\n",
    "Rs = np.array(Rs)\n",
    "i = np.argmax(perfs)\n",
    "k = np.argmin(Rs)\n",
    "# Rs = np.delete(Rs, k)\n",
    "# k = np.argmin(Rs)\n",
    "# Rs = np.delete(Rs, k)\n",
    "# k = np.argmin(Rs)\n",
    "print(airfoils[i])\n",
    "print(airfoils[k], Rs[k], perfs[k])\n"
   ]
  },
  {
   "cell_type": "code",
   "execution_count": null,
   "metadata": {},
   "outputs": [],
   "source": [
    "f = open(perffile, 'r')\n",
    "p = re.compile(airfoils[k])\n",
    "lines = []\n",
    "for line in f:\n",
    "    if p.search(line) is not None:\n",
    "        print(line)\n",
    "        pass\n",
    "    else:\n",
    "        lines.append(line)\n",
    "f.close()\n",
    "f = open(perffile, 'w')\n",
    "for line in lines:\n",
    "    f.write(line)\n",
    "f.close()\n"
   ]
  },
  {
   "cell_type": "code",
   "execution_count": 2,
   "metadata": {},
   "outputs": [],
   "source": [
    "i = 49"
   ]
  },
  {
   "cell_type": "code",
   "execution_count": 24,
   "metadata": {},
   "outputs": [
    {
     "name": "stdout",
     "output_type": "stream",
     "text": [
      "64\n"
     ]
    },
    {
     "data": {
      "image/png": "[encoded data removed]",
      "text/plain": [
       "<Figure size 640x480 with 1 Axes>"
      ]
     },
     "metadata": {},
     "output_type": "display_data"
    }
   ],
   "source": [
    "print(i)\n",
    "path = '/work3/s212645/DiffusionAirfoil1DTransform/Airfoils1D/'\n",
    "path += '000.npy'\n",
    "afs = np.load(path)\n",
    "airfoil = afs[i]\n",
    "airfoil = Normalize(airfoil)\n",
    "airfoil = derotate(airfoil)\n",
    "# airfoil = set_thickness_pose(airfoil, 50)\n",
    "lh_idx = np.argmin(airfoil[:,0])\n",
    "lh_x = airfoil[lh_idx, 0]\n",
    "# Get trailing head\n",
    "th_x = np.minimum(airfoil[0,0], airfoil[-1,0])\n",
    "# Interpolate\n",
    "f_up = interp1d(airfoil[:lh_idx+1,0], airfoil[:lh_idx+1,1])\n",
    "f_low = interp1d(airfoil[lh_idx:,0], airfoil[lh_idx:,1])\n",
    "xx = np.linspace(lh_x, th_x, num=1000)\n",
    "yy_up = f_up(xx)\n",
    "yy_low = f_low(xx)\n",
    "yy_up1 = yy_up[:-2]\n",
    "yy_up2 = yy_up[1:-1]\n",
    "i_up = (np.abs(yy_up2-yy_up1)).argmin()\n",
    "af_up = np.zeros([i_up,2])\n",
    "af_up[:i_up,0] = xx[1:i_up+1]\n",
    "af_up[:i_up,1] = yy_up[1:i_up+1]\n",
    "af_up = af_up * 0.2 / (af_up[-1,0] - af_up[0,0])\n",
    "af_up[:,1] = af_up[:,1] * 2 / af_up[-1,1]\n",
    "\n",
    "yy_up1 = yy_low[:-2]\n",
    "yy_up2 = yy_low[1:-1]\n",
    "i_down = (np.abs(yy_up2-yy_up1)).argmin()\n",
    "af_down = np.zeros([i_down,2])\n",
    "af_down[:i_down,0] = xx[1:i_down+1]\n",
    "af_down[:i_down,1] = yy_low[1:i_down+1]\n",
    "af_down = af_down * 0.2 / (af_down[-1,0] - af_down[0,0])\n",
    "af_down[:,1] = af_down[:,1] / abs(af_down[-1,1])\n",
    "\n",
    "fuse = np.zeros([i_down+i_up,2])\n",
    "fuse[:i_up,:] = np.flip(af_up, axis=0)\n",
    "fuse[i_up:,:] = af_down\n",
    "fuse[:,1] = fuse[:,1] * 0.032 / cal_thickness(fuse)\n",
    "\n",
    "up_ = np.array([[0.45, 0.006]])\n",
    "down_ = np.array([[0.45, -0.008]])\n",
    "fuse = np.concatenate([up_, fuse, down_], axis = 0)\n",
    "\n",
    "# fuse = Normalize(fuse)\n",
    "fuse = interpolate(fuse, 254, 3)\n",
    "up_ = np.array([[1.0, -0.008]])\n",
    "down_ = np.array([[1.0, -0.014]])\n",
    "fuse = np.concatenate([up_, fuse, down_], axis = 0)\n",
    "fuse = Normalize(fuse)\n",
    "fuse = derotate(fuse)\n",
    "\n",
    "show_airfoil(fuse)\n",
    "i+=1"
   ]
  },
  {
   "cell_type": "code",
   "execution_count": 25,
   "metadata": {},
   "outputs": [
    {
     "name": "stdout",
     "output_type": "stream",
     "text": [
      "(0.004603196866810322, -0.5)\n"
     ]
    }
   ],
   "source": [
    "print(evalpreset(fuse))"
   ]
  },
  {
   "cell_type": "code",
   "execution_count": 4,
   "metadata": {},
   "outputs": [],
   "source": [
    "np.savetxt(f'F3K_airfoils/fuse.dat', fuse, header=f'fuse', comments=\"\")"
   ]
  },
  {
   "cell_type": "code",
   "execution_count": 74,
   "metadata": {},
   "outputs": [
    {
     "name": "stdout",
     "output_type": "stream",
     "text": [
      "4\n"
     ]
    },
    {
     "data": {
      "image/png": "[encoded data removed]",
      "text/plain": [
       "<Figure size 640x480 with 1 Axes>"
      ]
     },
     "metadata": {},
     "output_type": "display_data"
    }
   ],
   "source": [
    "i = 4\n",
    "print(i)\n",
    "path = '/work3/s212645/DiffusionAirfoil1DTransform/Airfoils1D/'\n",
    "path += '000.npy'\n",
    "afs = np.load(path)\n",
    "airfoil = afs[i]\n",
    "airfoil = Normalize(airfoil)\n",
    "airfoil = derotate(airfoil)\n",
    "# airfoil = set_thickness_pose(airfoil, 50)\n",
    "lh_idx = np.argmin(airfoil[:,0])\n",
    "lh_x = airfoil[lh_idx, 0]\n",
    "# Get trailing head\n",
    "th_x = np.minimum(airfoil[0,0], airfoil[-1,0])\n",
    "# Interpolate\n",
    "f_up = interp1d(airfoil[:lh_idx+1,0], airfoil[:lh_idx+1,1])\n",
    "f_low = interp1d(airfoil[lh_idx:,0], airfoil[lh_idx:,1])\n",
    "xx = np.linspace(lh_x, th_x, num=1000)\n",
    "yy_up = f_up(xx)\n",
    "yy_low = f_low(xx)\n",
    "yy_up1 = yy_up[:-2]\n",
    "yy_up2 = yy_up[1:-1]\n",
    "i_up = (np.abs(yy_up2-yy_up1)).argmin()\n",
    "af_up = np.zeros([i_up,2])\n",
    "af_up[:i_up,0] = xx[1:i_up+1]\n",
    "af_up[:i_up,1] = yy_up[1:i_up+1]\n",
    "af_up[:,0] = af_up[:,0] ** 1.4\n",
    "af_up = af_up * 0.2 / (af_up[-1,0] - af_up[0,0])\n",
    "# af_up[:200,0] = af_up[:200,0] * 0.5\n",
    "# af_up[200:,0] = (af_up[200:,0] -  af_up[200,0]) * 1.25 + af_up[199,0]\n",
    "# af_up[:,1] = af_up[:,1] * 2 / af_up[-1,1]\n",
    "\n",
    "\n",
    "af_down = np.copy(af_up)\n",
    "af_down[:,1] = - af_down[:,1]\n",
    "\n",
    "fuse = np.zeros([2*i_up,2])\n",
    "fuse[:i_up,:] = np.flip(af_up, axis=0)\n",
    "fuse[i_up:,:] = af_down\n",
    "fuse[:,1] = fuse[:,1] * 0.04 / cal_thickness(fuse)\n",
    "\n",
    "up_ = np.array([[0.45, 0.008], [0.4, 0.011], [0.3, 0.018]])\n",
    "down_ = np.array([[0.3, -0.018], [0.4, -0.011], [0.45, -0.008]])\n",
    "fuse = np.concatenate([up_, fuse, down_], axis = 0)\n",
    "\n",
    "# # fuse = Normalize(fuse)\n",
    "fuse = interpolate(fuse, 254, 3)\n",
    "# up_ = np.array([[1.0, 0.004]])\n",
    "# down_ = np.array([[1.0, -0.004]])\n",
    "# fuse = np.concatenate([up_, fuse, down_], axis = 0)\n",
    "# fuse = Normalize(fuse)\n",
    "# fuse = derotate(fuse)\n",
    "\n",
    "show_airfoil(fuse)\n",
    "i+=1"
   ]
  },
  {
   "cell_type": "code",
   "execution_count": 75,
   "metadata": {},
   "outputs": [],
   "source": [
    "np.savetxt(f'F3K_airfoils/fuse_side.dat', fuse, header=f'fuse_side', comments=\"\")"
   ]
  },
  {
   "cell_type": "code",
   "execution_count": null,
   "metadata": {},
   "outputs": [],
   "source": [
    "\n",
    "points = 'samples/Airfoils2D_049.dat'\n",
    "airfoil = np.loadtxt(points, skiprows=1)\n",
    "af = setupflap(airfoil, -3, 0.6)\n",
    "show_airfoil(af)\n",
    "cd, _ = evalpreset(af)\n",
    "perf, _, _ = evalperf(setflap(af, 3, 0.6))\n",
    "cd, cal_thickness(af), cal_thickness_percent(af), perf, check_backpoint(af)"
   ]
  },
  {
   "cell_type": "code",
   "execution_count": null,
   "metadata": {},
   "outputs": [],
   "source": [
    "\n",
    "f = open('results/Airfoils1D_simperf.log', 'r')\n",
    "a = f.read()\n",
    "f.close()\n",
    "files = []\n",
    "for name in a.split('path: ')[1:]:\n",
    "    file = name.split('.dat')[0] + '.dat'\n",
    "    files.append(file)"
   ]
  },
  {
   "cell_type": "code",
   "execution_count": null,
   "metadata": {},
   "outputs": [],
   "source": [
    "for file in files:\n",
    "    # points = 'samples/Airfoils1D_039.dat'\n",
    "    # airfoil = np.loadtxt(points, skiprows=1)\n",
    "    airfoil = np.loadtxt(file, skiprows=1)\n",
    "    af, R, a, b, perf, cd, CD_BL = lowestD(airfoil, lamda = LAMBDA, check_thickness=False)\n",
    "    name = file.split('/')[1].split('.')[0]+f'_{a}_{b}F'\n",
    "    np.savetxt(file.split('.')[0]+f'_{a}_{b}F'+'.dat', af, header=file.split('/')[1].split('.')[0]+f'_{a}_{b}F', comments=\"\")\n",
    "    print(R, a, b, perf, cd, CD_BL)"
   ]
  },
  {
   "cell_type": "code",
   "execution_count": null,
   "metadata": {},
   "outputs": [],
   "source": []
  },
  {
   "cell_type": "code",
   "execution_count": null,
   "metadata": {},
   "outputs": [],
   "source": [
    "b = np.linspace(0.5, 0.6, num=5) \n",
    "a = np.linspace(-3,-1, num=5)\n",
    "cdbl = 1\n",
    "for pose in b:\n",
    "    for alfa in a:\n",
    "        afp = setupflap(airfoil, theta = alfa, pose = pose)\n",
    "        cd, aa = evalpreset(afp)\n",
    "        if cd < cdbl:\n",
    "            pose_bl = pose\n",
    "            alfa_bl = alfa\n",
    "            af_bl = afp\n",
    "            cdbl = cd\n",
    "            print(pose_bl, alfa_bl, cdbl)\n",
    "\n",
    "pose_bl, alfa_bl, cdbl"
   ]
  },
  {
   "cell_type": "code",
   "execution_count": null,
   "metadata": {},
   "outputs": [],
   "source": [
    "points = 'samples/tipAirfoils1D_004.dat'\n",
    "airfoil = np.loadtxt(points, skiprows=1)\n",
    "af = setupflap(airfoil, -3, 0.6)\n",
    "show_airfoil(af)\n",
    "cd, _ = evalpreset(af, Re=1.4e5)\n",
    "cd, cal_thickness(af), cal_thickness_percent(af), detect_intersect(af), check_backpoint(af)"
   ]
  },
  {
   "cell_type": "code",
   "execution_count": null,
   "metadata": {},
   "outputs": [],
   "source": [
    "points = 'samples/tipAirfoils1D_018.dat'\n",
    "airfoil = np.loadtxt(points, skiprows=1)\n",
    "af = setupflap(airfoil, -3, 0.6)\n",
    "show_airfoil(af)\n",
    "cd, _ = evalpreset(af, Re=1.4e5)\n",
    "cd, cal_thickness(af), cal_thickness_percent(af), detect_intersect(af), check_backpoint(af)"
   ]
  },
  {
   "cell_type": "code",
   "execution_count": null,
   "metadata": {},
   "outputs": [],
   "source": [
    "points = 'samples/tipAirfoils2D_033.dat'\n",
    "airfoil = np.loadtxt(points, skiprows=1)\n",
    "af = setupflap(airfoil, -3, 0.6)\n",
    "show_airfoil(af)\n",
    "cd, _ = evalpreset(af, Re=1.4e5)\n",
    "cd, cal_thickness(af), cal_thickness_percent(af), detect_intersect(af), check_backpoint(af)"
   ]
  },
  {
   "cell_type": "code",
   "execution_count": null,
   "metadata": {},
   "outputs": [],
   "source": [
    "points = 'samples/tipAirfoils2D_044.dat'\n",
    "airfoil = np.loadtxt(points, skiprows=1)\n",
    "af = setupflap(airfoil, -3, 0.6)\n",
    "show_airfoil(af)\n",
    "cd, _ = evalpreset(af, Re=1.4e5)\n",
    "cd, cal_thickness(af), cal_thickness_percent(af), detect_intersect(af), check_backpoint(af)"
   ]
  },
  {
   "cell_type": "code",
   "execution_count": null,
   "metadata": {},
   "outputs": [],
   "source": [
    "points = 'samples/tipAirfoils1D_004.dat'\n",
    "airfoil = np.loadtxt(points, skiprows=1)\n",
    "airfoil = setupflap(airfoil, -3, 0.6)\n",
    "def set_thickness_pose(airfoil, pose):\n",
    "    lh_idx = np.argmin(airfoil[:,0])\n",
    "    lh_x = airfoil[lh_idx, 0]\n",
    "    # Get trailing head\n",
    "    th_x = np.minimum(airfoil[0,0], airfoil[-1,0])\n",
    "    # Interpolate\n",
    "    f_up = interp1d(airfoil[:lh_idx+1,0], airfoil[:lh_idx+1,1])\n",
    "    f_low = interp1d(airfoil[lh_idx:,0], airfoil[lh_idx:,1])\n",
    "    xx = np.linspace(lh_x, th_x, num=1000)\n",
    "    yy_up = f_up(xx)\n",
    "    yy_low = f_low(xx)\n",
    "    max_thickness_index = (yy_up-yy_low).argmax()\n",
    "    p = pose*10/max_thickness_index\n",
    "    xxx = np.copy(xx)\n",
    "    xxx[:max_thickness_index] = xx[:max_thickness_index] * p\n",
    "    xxx[max_thickness_index:] = (xx[max_thickness_index:] - xx[max_thickness_index]) * (1000 - max_thickness_index * p) / (1000 - max_thickness_index) + xx[max_thickness_index] * p\n",
    "    f_up = interp1d(xxx, yy_up)\n",
    "    f_low = interp1d(xxx, yy_low)\n",
    "    xx = np.linspace(xxx[0], xxx[-1], num=128)\n",
    "    yy_up = f_up(xx)\n",
    "    yy_low = f_low(xx)\n",
    "    airfoil[:128,0] = np.flip(xx)\n",
    "    airfoil[:128,1] = np.flip(yy_up)\n",
    "    airfoil[128:,0] = xx\n",
    "    airfoil[128:,1] = yy_low\n",
    "    airfoil = np.delete(airfoil, [128], axis=0)\n",
    "    xhat, yhat = savgol_filter((airfoil[:,0], airfoil[:,1]), 7, 3)\n",
    "    airfoil[:,0] = xhat\n",
    "    airfoil[:,1] = yhat\n",
    "    airfoil = interpolate(airfoil, 256, 3)\n",
    "    airfoil = derotate(airfoil)\n",
    "    airfoil = Normalize(airfoil)\n",
    "    airfoil = interpolate(airfoil, 256, 3)\n",
    "    return airfoil\n",
    "airfoil = set_thickness_pose(airfoil, cal_thickness_percent(airfoil)*(1-(25-23)/25))\n",
    "show_airfoil(airfoil)\n",
    "cal_thickness_percent(airfoil)\n"
   ]
  },
  {
   "cell_type": "code",
   "execution_count": null,
   "metadata": {},
   "outputs": [],
   "source": [
    "import os\n",
    "\n",
    "def rewrite_polar(root):\n",
    "    for path, dir, files in os.walk(root):\n",
    "        for file in files:\n",
    "            lines=[]\n",
    "            infile = root+file\n",
    "            with open(infile, 'r') as fin:\n",
    "                for line in fin:\n",
    "                    line = line.replace('9.000  9.000', '9.000')\n",
    "                    lines.append(line)\n",
    "            fin.close()\n",
    "            with open(infile, \"w\") as fout:\n",
    "                for line in lines:\n",
    "                    fout.write(line)\n",
    "            fout.close()\n",
    "\n",
    "root = 'Airfoils2D_049_0.6F_20_-3/'\n",
    "rewrite_polar(root)"
   ]
  }
 ],
 "metadata": {
  "kernelspec": {
   "display_name": "pytorch",
   "language": "python",
   "name": "python3"
  },
  "language_info": {
   "codemirror_mode": {
    "name": "ipython",
    "version": 3
   },
   "file_extension": ".py",
   "mimetype": "text/x-python",
   "name": "python",
   "nbconvert_exporter": "python",
   "pygments_lexer": "ipython3",
   "version": "3.11.2"
  }
 },
 "nbformat": 4,
 "nbformat_minor": 2
}
