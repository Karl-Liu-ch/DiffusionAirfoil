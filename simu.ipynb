{
 "cells": [
  {
   "cell_type": "code",
   "execution_count": null,
   "metadata": {},
   "outputs": [],
   "source": [
    "from utils import *\n",
    "perf = np.array([1, 2, np.nan])"
   ]
  },
  {
   "cell_type": "code",
   "execution_count": 1,
   "metadata": {},
   "outputs": [
    {
     "name": "stderr",
     "output_type": "stream",
     "text": [
      "100%|██████████| 6/6 [00:01<00:00,  3.51it/s]\n"
     ]
    },
    {
     "name": "stdout",
     "output_type": "stream",
     "text": [
      "39.948841364498186\n",
      "45.01967342418574\n",
      "i: 4, k: 594, m: 2\n"
     ]
    },
    {
     "name": "stderr",
     "output_type": "stream",
     "text": [
      "  0%|          | 0/6 [00:00<?, ?it/s]"
     ]
    }
   ],
   "source": [
    "name = 'Airfoils2D'\n",
    "airfoilpath = '/work3/s212645/DiffusionAirfoil/Airfoils/'\n",
    "\n",
    "from utils import *\n",
    "v = 5.7\n",
    "mass = 0.32\n",
    "area = 0.2254\n",
    "d = 0.155\n",
    "thickness = 0.058\n",
    "reynolds = reynolds_pipe(velocity=v, diameter=d)\n",
    "_cl = mode_cl(velocity=v, area=area, mass = mass)\n",
    "af = np.loadtxt('BETTER/20150114-50 +2 d.dat', skiprows=1)\n",
    "af = interpolate(af, 256, 3)\n",
    "vs = np.linspace(5.5, 6, 3)\n",
    "mass = 0.32\n",
    "area = 0.2254\n",
    "d = 0.155\n",
    "thickness = 0.058\n",
    "perf_bl = type2_simu(af, mass, d, area)\n",
    "print(perf_bl)\n",
    "\n",
    "simlog = f'results/{name}_{int(reynolds)}_{_cl:.2f}_simlog.txt'\n",
    "simperf = f'results/{name}_{int(reynolds)}_{_cl:.2f}_simperf.log'\n",
    "try:\n",
    "    lines = []\n",
    "    with open(simperf, 'r') as fin:\n",
    "        for line in fin:\n",
    "            lines.append(line)\n",
    "    perf_bl = float(lines[-1].split('perf: ')[-1].split(', ')[0])\n",
    "    print(perf_bl)\n",
    "except:\n",
    "    pass\n",
    "\n",
    "try:\n",
    "    log = np.loadtxt(simlog)\n",
    "    i = int(log[0])\n",
    "    k = int(log[1])\n",
    "    m = int(log[2])\n",
    "except:\n",
    "    m = 0\n",
    "    i = 0\n",
    "    k = 0\n",
    "\n",
    "\n",
    "print(f'i: {i}, k: {k}, m: {m}')\n",
    "while 1:\n",
    "    num = str(i).zfill(3)\n",
    "    airfoils = np.load(airfoilpath+num+'.npy')\n",
    "    airfoils = delete_intersect(airfoils)\n",
    "    while k < airfoils.shape[0]:\n",
    "        airfoil = airfoils[k,:,:]\n",
    "        airfoil = derotate(airfoil)\n",
    "        airfoil = Normalize(airfoil)\n",
    "        airfoil = interpolate(airfoil, 400, 3)\n",
    "        xhat, yhat = savgol_filter((airfoil[:,0], airfoil[:,1]), 10, 3)\n",
    "        airfoil[:,0] = xhat\n",
    "        airfoil[:,1] = yhat\n",
    "        airfoil[:,1] = airfoil[:,1] * thickness / cal_thickness(airfoil)\n",
    "        airfoil = interpolate(airfoil, 300, 3)\n",
    "        if detect_intersect(airfoil):\n",
    "            perf = np.nan\n",
    "        else:\n",
    "            try:\n",
    "                perf = type2_simu(airfoil, mass, d, area)\n",
    "                successful = True\n",
    "                if not np.isnan(perf):\n",
    "                    print(f'perf: {perf:4f}')\n",
    "            except Exception as e:\n",
    "                perf = np.nan\n",
    "                print(e)\n",
    "        if np.isnan(perf):\n",
    "            pass\n",
    "        elif perf > perf_bl:\n",
    "            perf_bl = perf\n",
    "            mm = str(m).zfill(3)\n",
    "            af_name = f'{name}_{int(reynolds)}_{_cl:.2f}_{int(mm)}'\n",
    "            np.savetxt(f'samplesP5B/{af_name}.dat', airfoil, header=f'{af_name}', comments=\"\")\n",
    "            f = open(simperf, 'a')\n",
    "            f.write(f'perf: {perf}, m: {mm}, path: samplesP5B/{af_name}.dat\\n')\n",
    "            f.close()\n",
    "            m += 1\n",
    "            del f\n",
    "        k += 1\n",
    "        log = np.array([i, k, m])\n",
    "        np.savetxt(simlog, log)\n",
    "        del airfoil\n",
    "        gc.collect()\n",
    "    k = 0\n",
    "    i += 1\n",
    "    del airfoils\n",
    "    gc.collect()"
   ]
  },
  {
   "cell_type": "code",
   "execution_count": 23,
   "metadata": {},
   "outputs": [
    {
     "data": {
      "text/plain": [
       "44.07490150108495"
      ]
     },
     "execution_count": 23,
     "metadata": {},
     "output_type": "execute_result"
    }
   ],
   "source": [
    "from utils import *\n",
    "def type2_simu(af, mass, diameter, area):\n",
    "    g = 9.806\n",
    "    density = 1.225\n",
    "    viscosity = 1.5*10**(-5)\n",
    "    re_sqrtcl = np.sqrt(2 * mass * g / density / area) * diameter * density / viscosity\n",
    "    cl_list = np.linspace(0.6, 0.7, 6)\n",
    "    perfs = []\n",
    "    for cl in cl_list:\n",
    "        re = re_sqrtcl / np.sqrt(cl)\n",
    "        perf,_,_ = evalperf(af, cl, re)\n",
    "        if not np.isnan(perf):\n",
    "            perfs.append(perf)\n",
    "    perfs = np.array(perfs).mean()\n",
    "    return perfs\n",
    "\n",
    "mass = 0.32\n",
    "area = 0.2254\n",
    "d = 0.155\n",
    "af = np.loadtxt('BETTER/20150114-50 +2 d.dat', skiprows=1)\n",
    "af = interpolate(af, 256, 3)\n",
    "perf_bl = type2_simu(af, mass, d, area)\n",
    "perf_bl"
   ]
  },
  {
   "cell_type": "markdown",
   "metadata": {},
   "source": [
    "For steady level flight the lift equation is\n",
    "$L=W=\\frac{1}{2} \\rho V^2 * S * C_L$\n",
    "And Reynold's number is\n",
    "$\\text{Re}= \\frac{Vl\\rho}{\\mu}$\n",
    "Rearranging the lift equation for V gives\n",
    "$V=\\sqrt\\frac{2W}{\\rho S c_L}$\n",
    "Using this V in the Reynold's number gives\n",
    "$\\text{Re}=\\sqrt{\\frac{2W}{\\rho S c_L}}\\frac{l \\rho}{\\mu}$\n",
    "Therefore\n",
    "$\\text{Re}\\sqrt{c_L}=\\sqrt{\\frac{2W}{\\rho S}}\\frac{l \\rho}{\\mu}$"
   ]
  },
  {
   "cell_type": "code",
   "execution_count": 27,
   "metadata": {},
   "outputs": [
    {
     "name": "stdout",
     "output_type": "stream",
     "text": [
      "samplesP5B/DiffusionAirfoilTransform_63291_0.63_1.dat DiffusionAirfoilTransform_63291_0.63_1\n",
      "samplesP5B/DiffusionAirfoil1DTransform_72152_0.70_1.dat DiffusionAirfoil1DTransform_72152_0.70_1\n",
      "samplesP5B/Airfoils1D_72152_0.70_1.dat Airfoils1D_72152_0.70_1\n",
      "samplesP5B/Airfoils1D_72152_0.70_0.dat Airfoils1D_72152_0.70_0\n",
      "samplesP5B/DiffusionAirfoilTransform_72152_0.70_1.dat DiffusionAirfoilTransform_72152_0.70_1\n",
      "samplesP5B/DiffusionAirfoilTransform_72152_0.70_3.dat DiffusionAirfoilTransform_72152_0.70_3\n",
      "samplesP5B/Airfoils1D_72152_0.70_2.dat Airfoils1D_72152_0.70_2\n",
      "samplesP5B/DiffusionAirfoil1DTransform_72152_0.70_4.dat DiffusionAirfoil1DTransform_72152_0.70_4\n",
      "samplesP5B/DiffusionAirfoilTransform_72152_0.70_6.dat DiffusionAirfoilTransform_72152_0.70_6\n",
      "samplesP5B/Airfoils1D_72152_0.70_4.dat Airfoils1D_72152_0.70_4\n",
      "samplesP5B/DiffusionAirfoil1DTransform_72152_0.70_2.dat DiffusionAirfoil1DTransform_72152_0.70_2\n",
      "samplesP5B/DiffusionAirfoilTransform_72152_0.70_2.dat DiffusionAirfoilTransform_72152_0.70_2\n",
      "samplesP5B/Airfoils2D_72152_0.70_5.dat Airfoils2D_72152_0.70_5\n",
      "samplesP5B/DiffusionAirfoil1DTransform_72152_0.70_3.dat DiffusionAirfoil1DTransform_72152_0.70_3\n",
      "samplesP5B/P5B_40.dat P5B_40\n",
      "samplesP5B/Airfoils1D_72152_0.70_3.dat Airfoils1D_72152_0.70_3\n"
     ]
    }
   ],
   "source": [
    "from utils import *\n",
    "import re\n",
    "import os\n",
    "dat = re.compile('.dat')\n",
    "# dat = re.compile('airfoil.*\\.dat')\n",
    "root = 'samplesP5B/'\n",
    "\n",
    "airfoils = {}\n",
    "for path, dir, files in os.walk(root):\n",
    "    for file in files:\n",
    "        if dat.search(file) is not None:\n",
    "            airfoils['{}{}'.format(path,file)] = file.split('.dat')[0]\n",
    "            # airfoils.append('{}{}'.format(path,file))\n",
    "\n",
    "Rbl = 1\n",
    "files.sort()\n",
    "for file in airfoils.keys():\n",
    "    points = file\n",
    "    name = airfoils[file]\n",
    "    airfoil = np.loadtxt(points, skiprows=1)\n",
    "    perf = type2_simu(airfoil, mass, d, area)\n",
    "    if perf < 44.07490150108495:\n",
    "        os.remove(points)\n",
    "        print(points, name)"
   ]
  },
  {
   "cell_type": "code",
   "execution_count": null,
   "metadata": {},
   "outputs": [],
   "source": [
    "\n",
    "mass = 0.32\n",
    "area = 0.2254\n",
    "d = 0.155\n",
    "airfoil = np.loadtxt('samplesP5B/Airfoils2D_72152_0.70_2.dat', skiprows=1)\n",
    "perf = type2_simu(airfoil, mass, d, area)\n",
    "perf"
   ]
  }
 ],
 "metadata": {
  "kernelspec": {
   "display_name": "pytorch",
   "language": "python",
   "name": "python3"
  },
  "language_info": {
   "codemirror_mode": {
    "name": "ipython",
    "version": 3
   },
   "file_extension": ".py",
   "mimetype": "text/x-python",
   "name": "python",
   "nbconvert_exporter": "python",
   "pygments_lexer": "ipython3",
   "version": "3.11.2"
  }
 },
 "nbformat": 4,
 "nbformat_minor": 2
}
