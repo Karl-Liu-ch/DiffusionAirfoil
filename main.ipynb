{
 "cells": [
  {
   "cell_type": "code",
   "execution_count": 1,
   "metadata": {},
   "outputs": [],
   "source": [
    "import numpy as np \n",
    "import torch\n",
    "import torch.nn as nn\n",
    "import matplotlib.pyplot as plt\n",
    "import os\n",
    "from scipy.signal import savgol_filter\n",
    "os.environ[\"KMP_DUPLICATE_LIB_OK\"]=\"TRUE\"\n",
    "device = 'cuda' if torch.cuda.is_available() else 'cpu'\n",
    "\n",
    "dataroot = 'data/airfoil_interp.npy'\n",
    "data = np.load(dataroot)"
   ]
  },
  {
   "cell_type": "code",
   "execution_count": 2,
   "metadata": {},
   "outputs": [
    {
     "data": {
      "image/png": "[encoded data removed]",
      "text/plain": [
       "<Figure size 640x480 with 1 Axes>"
      ]
     },
     "metadata": {},
     "output_type": "display_data"
    }
   ],
   "source": [
    "fig, axs = plt.subplots(1, 1)\n",
    "axs.plot(data[0,:,0], data[0,:,1])\n",
    "axs.set_aspect('equal', 'box')\n",
    "fig.tight_layout()\n",
    "plt.show()\n"
   ]
  },
  {
   "cell_type": "code",
   "execution_count": 3,
   "metadata": {},
   "outputs": [],
   "source": [
    "sample = np.load('sample.npy')\n",
    "# sample = np.squeeze(sample, axis=1)"
   ]
  },
  {
   "cell_type": "code",
   "execution_count": 4,
   "metadata": {},
   "outputs": [
    {
     "data": {
      "image/png": "[encoded data removed]",
      "text/plain": [
       "<Figure size 640x480 with 1 Axes>"
      ]
     },
     "metadata": {},
     "output_type": "display_data"
    }
   ],
   "source": [
    "i = 1\n",
    "fig, axs = plt.subplots(1, 1)\n",
    "axs.plot(sample[i,:,0], sample[i,:,1])\n",
    "axs.set_aspect('equal', 'box')\n",
    "fig.tight_layout()\n",
    "plt.show()"
   ]
  },
  {
   "cell_type": "code",
   "execution_count": 5,
   "metadata": {},
   "outputs": [
    {
     "data": {
      "image/png": "[encoded data removed]",
      "text/plain": [
       "<Figure size 640x480 with 1 Axes>"
      ]
     },
     "metadata": {},
     "output_type": "display_data"
    }
   ],
   "source": [
    "xhat, yhat = savgol_filter((sample[i,:,0], sample[i,:,1]), 10, 3)\n",
    "fig, axs = plt.subplots(1, 1)\n",
    "axs.plot(xhat, yhat)\n",
    "axs.set_aspect('equal', 'box')\n",
    "fig.tight_layout()\n",
    "plt.show()"
   ]
  },
  {
   "cell_type": "code",
   "execution_count": 6,
   "metadata": {},
   "outputs": [
    {
     "data": {
      "text/plain": [
       "0.05101413"
      ]
     },
     "execution_count": 6,
     "metadata": {},
     "output_type": "execute_result"
    }
   ],
   "source": [
    "abs(yhat[:128] - np.flip(yhat[-128:])).max()"
   ]
  },
  {
   "cell_type": "code",
   "execution_count": 7,
   "metadata": {},
   "outputs": [],
   "source": [
    "import numpy as np\n",
    "from xfoil import XFoil\n",
    "from xfoil.model import Airfoil\n",
    "import matplotlib.pyplot as plt\n",
    "from utils import detect_intersect, Normalize, derotate\n",
    "from scipy.signal import savgol_filter\n",
    "from scipy.interpolate import interp1d"
   ]
  },
  {
   "cell_type": "code",
   "execution_count": 8,
   "metadata": {},
   "outputs": [],
   "source": [
    "import numpy as np\n",
    "from scipy.interpolate import splev, splprep, interp1d\n",
    "from scipy.integrate import cumtrapz\n",
    "\n",
    "def interpolate(Q, N, k, D=20, resolution=1000):\n",
    "    ''' Interpolate N points whose concentration is based on curvature. '''\n",
    "    res, fp, ier, msg = splprep(Q.T, u=None, k=k, s=1e-6, per=0, full_output=1)\n",
    "    tck, u = res\n",
    "    uu = np.linspace(u.min(), u.max(), resolution)\n",
    "    x, y = splev(uu, tck, der=0)\n",
    "    dx, dy = splev(uu, tck, der=1)\n",
    "    ddx, ddy = splev(uu, tck, der=2)\n",
    "    cv = np.abs(ddx*dy - dx*ddy)/(dx*dx + dy*dy)**1.5 + D\n",
    "    cv_int = cumtrapz(cv, uu, initial=0)\n",
    "    fcv = interp1d(cv_int, uu)\n",
    "    cv_int_samples = np.linspace(0, cv_int.max(), N)\n",
    "    u_new = fcv(cv_int_samples)\n",
    "    x_new, y_new = splev(u_new, tck, der=0)\n",
    "    xy_new = np.vstack((x_new, y_new)).T\n",
    "    return xy_new"
   ]
  },
  {
   "cell_type": "code",
   "execution_count": 9,
   "metadata": {},
   "outputs": [],
   "source": [
    "airfoil1D = np.loadtxt('results/airfoil1D.dat')\n",
    "airfoil = np.loadtxt('results/airfoil.dat')"
   ]
  },
  {
   "cell_type": "code",
   "execution_count": 10,
   "metadata": {},
   "outputs": [],
   "source": [
    "def delete_intersect(samples):\n",
    "    indexs = []\n",
    "    for i in range(samples.shape[0]):\n",
    "        xhat, yhat = savgol_filter((samples[i,:,0], samples[i,:,1]), 10, 3)\n",
    "        samples[i,:,0] = xhat\n",
    "        samples[i,:,1] = yhat\n",
    "        af = samples[i,:,:]\n",
    "        if detect_intersect(af):\n",
    "            indexs.append(i)\n",
    "    for i in indexs:\n",
    "        xhat, yhat = savgol_filter((samples[i,:,0], samples[i,:,1]), 10, 3)\n",
    "        samples[i,:,0] = xhat\n",
    "        samples[i,:,1] = yhat\n",
    "        af = samples[i,:,:]\n",
    "        point = 1.0\n",
    "        while detect_intersect(af):\n",
    "            indexs = []\n",
    "            for index in range(af.shape[0]):\n",
    "                if af[index,0] > point:\n",
    "                    indexs.append(index)\n",
    "            af = np.delete(af, indexs, axis=0)\n",
    "            point -= 0.01\n",
    "        af = interpolate(af, 256, 3)\n",
    "        af = Normalize(af)\n",
    "        samples[i,:,:] = af\n",
    "    return samples"
   ]
  },
  {
   "cell_type": "code",
   "execution_count": 11,
   "metadata": {},
   "outputs": [
    {
     "data": {
      "image/png": "[encoded data removed]",
      "text/plain": [
       "<Figure size 640x480 with 1 Axes>"
      ]
     },
     "metadata": {},
     "output_type": "display_data"
    },
    {
     "data": {
      "text/plain": [
       "[]"
      ]
     },
     "execution_count": 11,
     "metadata": {},
     "output_type": "execute_result"
    }
   ],
   "source": [
    "samples = np.load('sample.npy')\n",
    "samples = delete_intersect(samples)\n",
    "\n",
    "fig, axs = plt.subplots(1, 1)\n",
    "xhat, yhat = savgol_filter((samples[58,:,0], samples[58,:,1]), 10, 3)\n",
    "samples[58,:,0] = xhat\n",
    "samples[58,:,1] = yhat\n",
    "axs.plot(samples[58,:,0], samples[58,:,1])\n",
    "axs.set_aspect('equal', 'box')\n",
    "fig.tight_layout()\n",
    "plt.show()\n",
    "\n",
    "detect_intersect(samples[58,:,:])\n",
    "\n",
    "intersect = []\n",
    "for i in range(samples.shape[0]):\n",
    "    xhat, yhat = savgol_filter((samples[i,:,0], samples[i,:,1]), 10, 3)\n",
    "    samples[i,:,0] = xhat\n",
    "    samples[i,:,1] = yhat\n",
    "    af = samples[i,:,:]\n",
    "    if detect_intersect(af):\n",
    "        intersect.append(i)\n",
    "intersect"
   ]
  },
  {
   "cell_type": "code",
   "execution_count": 12,
   "metadata": {},
   "outputs": [
    {
     "data": {
      "image/png": "[encoded data removed]",
      "text/plain": [
       "<Figure size 640x480 with 1 Axes>"
      ]
     },
     "metadata": {},
     "output_type": "display_data"
    }
   ],
   "source": [
    "fig, axs = plt.subplots(1, 1)\n",
    "xhat, yhat = savgol_filter((samples[4,:,0], samples[4,:,1]), 5, 3)\n",
    "samples[4,:,0] = xhat\n",
    "samples[4,:,1] = yhat\n",
    "axs.plot(samples[4,:,0], samples[4,:,1])\n",
    "axs.set_aspect('equal', 'box')\n",
    "fig.tight_layout()\n",
    "plt.show()"
   ]
  },
  {
   "cell_type": "code",
   "execution_count": 13,
   "metadata": {},
   "outputs": [
    {
     "data": {
      "image/png": "[encoded data removed]",
      "text/plain": [
       "<Figure size 640x480 with 1 Axes>"
      ]
     },
     "metadata": {},
     "output_type": "display_data"
    }
   ],
   "source": [
    "fig, axs = plt.subplots(1, 1)\n",
    "axs.plot(airfoil1D[:,0], airfoil1D[:,1])\n",
    "axs.set_aspect('equal', 'box')\n",
    "fig.tight_layout()\n",
    "plt.show()"
   ]
  },
  {
   "cell_type": "code",
   "execution_count": 14,
   "metadata": {},
   "outputs": [
    {
     "data": {
      "image/png": "[encoded data removed]",
      "text/plain": [
       "<Figure size 640x480 with 1 Axes>"
      ]
     },
     "metadata": {},
     "output_type": "display_data"
    }
   ],
   "source": [
    "fig, axs = plt.subplots(1, 1)\n",
    "axs.plot(airfoil[:,0], airfoil[:,1])\n",
    "axs.set_aspect('equal', 'box')\n",
    "fig.tight_layout()\n",
    "plt.show()"
   ]
  },
  {
   "cell_type": "code",
   "execution_count": 15,
   "metadata": {},
   "outputs": [],
   "source": [
    "def derotate(airfoil):\n",
    "    ptail = 0.5 * (airfoil[0,:]+airfoil[-1,:])\n",
    "    ptails = np.expand_dims(ptail, axis=0)\n",
    "    ptails = np.repeat(ptails, 256, axis=0)\n",
    "    i = np.linalg.norm(airfoil - ptails, axis=1).argmax()\n",
    "    phead = airfoil[i,:]\n",
    "    theta = np.arctan2(-(airfoil[i,1] - ptail[1]), -(airfoil[i,0] - ptail[0]))\n",
    "    c = np.cos(theta)\n",
    "    s = np.sin(theta)\n",
    "    R = np.array([[c, -s], [s, c]])\n",
    "    airfoil_R = airfoil\n",
    "    airfoil_R -= np.repeat(np.expand_dims(phead, axis=0), 256, axis=0)\n",
    "    airfoil_R = np.matmul(airfoil_R, R)\n",
    "    return airfoil_R\n",
    "\n",
    "def Normalize(airfoil):\n",
    "    r = np.maximum(airfoil[0,0], airfoil[-1,0])\n",
    "    r = float(1.0/r)\n",
    "    return airfoil * r"
   ]
  },
  {
   "cell_type": "code",
   "execution_count": 16,
   "metadata": {},
   "outputs": [
    {
     "data": {
      "image/png": "[encoded data removed]",
      "text/plain": [
       "<Figure size 640x480 with 1 Axes>"
      ]
     },
     "metadata": {},
     "output_type": "display_data"
    }
   ],
   "source": [
    "airfoil_R = derotate(airfoil)\n",
    "airfoil_R = Normalize(airfoil_R)\n",
    "fig, axs = plt.subplots(1, 1)\n",
    "axs.plot(airfoil_R[:,0], airfoil_R[:,1])\n",
    "axs.set_aspect('equal', 'box')\n",
    "fig.tight_layout()\n",
    "plt.show()"
   ]
  },
  {
   "cell_type": "code",
   "execution_count": 17,
   "metadata": {},
   "outputs": [
    {
     "data": {
      "text/plain": [
       "array([0., 0.])"
      ]
     },
     "execution_count": 17,
     "metadata": {},
     "output_type": "execute_result"
    }
   ],
   "source": [
    "ptail = 0.5 * (airfoil_R[0,:]+airfoil_R[-1,:])\n",
    "ptails = np.expand_dims(ptail, axis=0)\n",
    "ptails = np.repeat(ptails, 256, axis=0)\n",
    "i = np.linalg.norm(airfoil_R - ptails, axis=1).argmax()\n",
    "phead = airfoil_R[i,:]\n",
    "theta = np.arctan2(-(airfoil_R[i,1] - ptail[1]), -(airfoil_R[i,0] - ptail[0]))\n",
    "phead"
   ]
  },
  {
   "cell_type": "code",
   "execution_count": 18,
   "metadata": {},
   "outputs": [
    {
     "data": {
      "image/png": "[encoded data removed]",
      "text/plain": [
       "<Figure size 640x480 with 1 Axes>"
      ]
     },
     "metadata": {},
     "output_type": "display_data"
    }
   ],
   "source": [
    "airfoil_R1D = derotate(airfoil1D)\n",
    "airfoil_R1D = Normalize(airfoil_R1D)\n",
    "fig, axs = plt.subplots(1, 1)\n",
    "axs.plot(airfoil_R1D[:,0], airfoil_R1D[:,1])\n",
    "axs.set_aspect('equal', 'box')\n",
    "fig.tight_layout()\n",
    "plt.show()"
   ]
  },
  {
   "cell_type": "code",
   "execution_count": 19,
   "metadata": {},
   "outputs": [
    {
     "data": {
      "image/png": "[encoded data removed]",
      "text/plain": [
       "<Figure size 640x480 with 1 Axes>"
      ]
     },
     "metadata": {},
     "output_type": "display_data"
    }
   ],
   "source": [
    "samples = np.load('/work3/s212645/DiffusionAirfoil/Airfoils/000.npy')\n",
    "i = 23\n",
    "fig, axs = plt.subplots(1, 1)\n",
    "xhat, yhat = savgol_filter((samples[i,:,0], samples[i,:,1]), 5, 3)\n",
    "samples[i,:,0] = xhat\n",
    "samples[i,:,1] = yhat\n",
    "axs.plot(samples[i,:,0], samples[i,:,1])\n",
    "axs.set_aspect('equal', 'box')\n",
    "fig.tight_layout()\n",
    "plt.show()"
   ]
  },
  {
   "cell_type": "code",
   "execution_count": 20,
   "metadata": {},
   "outputs": [],
   "source": [
    "from scipy.interpolate import splev, splprep, interp1d\n",
    "from scipy.integrate import cumtrapz\n",
    "\n",
    "def interpolate(Q, N, k, D=20, resolution=1000):\n",
    "    ''' Interpolate N points whose concentration is based on curvature. '''\n",
    "    res, fp, ier, msg = splprep(Q.T, u=None, k=k, s=1e-6, per=0, full_output=1)\n",
    "    tck, u = res\n",
    "    uu = np.linspace(u.min(), u.max(), resolution)\n",
    "    x, y = splev(uu, tck, der=0)\n",
    "    dx, dy = splev(uu, tck, der=1)\n",
    "    ddx, ddy = splev(uu, tck, der=2)\n",
    "    cv = np.abs(ddx*dy - dx*ddy)/(dx*dx + dy*dy)**1.5 + D\n",
    "    cv_int = cumtrapz(cv, uu, initial=0)\n",
    "    fcv = interp1d(cv_int, uu)\n",
    "    cv_int_samples = np.linspace(0, cv_int.max(), N)\n",
    "    u_new = fcv(cv_int_samples)\n",
    "    x_new, y_new = splev(u_new, tck, der=0)\n",
    "    xy_new = np.vstack((x_new, y_new)).T\n",
    "    return xy_new"
   ]
  },
  {
   "cell_type": "code",
   "execution_count": 21,
   "metadata": {},
   "outputs": [
    {
     "data": {
      "image/png": "[encoded data removed]",
      "text/plain": [
       "<Figure size 640x480 with 1 Axes>"
      ]
     },
     "metadata": {},
     "output_type": "display_data"
    }
   ],
   "source": [
    "samples = np.load('/work3/s212645/DiffusionAirfoil/Airfoils/000.npy')\n",
    "i = 30\n",
    "airfoil = samples[i,:,:]\n",
    "def setflap(af, theta = 8, pose = 0.7):\n",
    "    airfoil = np.copy(af)\n",
    "    phead_i = airfoil[:,0].argmin()\n",
    "    pflap_i_down = abs(airfoil[:phead_i,0] - pose).argmin()\n",
    "    pflap_i_up = abs(airfoil[phead_i:,0] - pose).argmin() + phead_i\n",
    "    theta = theta * np.pi / 180\n",
    "    c = np.cos(theta)\n",
    "    s = np.sin(theta)\n",
    "    R = np.array([[c, -s], [s, c]])\n",
    "    if theta < 0:\n",
    "        p_mid = airfoil[pflap_i_down,:]\n",
    "    else:\n",
    "        p_mid = airfoil[pflap_i_up,:]\n",
    "    airfoil[pflap_i_up:,:] = np.matmul(airfoil[pflap_i_up:,:] - p_mid, R) + p_mid\n",
    "    airfoil[:pflap_i_down,:] = np.matmul(airfoil[:pflap_i_down,:] - p_mid, R) + p_mid\n",
    "    airfoil = interpolate(airfoil, 256, 3)\n",
    "    airfoil = derotate(airfoil)\n",
    "    airfoil = Normalize(airfoil)\n",
    "    return airfoil\n",
    "\n",
    "airfoil = setflap(airfoil)\n",
    "fig, axs = plt.subplots(1, 1)\n",
    "axs.plot(airfoil[:,0], airfoil[:,1])\n",
    "axs.set_aspect('equal', 'box')\n",
    "fig.tight_layout()\n",
    "plt.show()"
   ]
  },
  {
   "cell_type": "code",
   "execution_count": 22,
   "metadata": {},
   "outputs": [],
   "source": [
    "from xfoil import XFoil\n",
    "from utils import *\n",
    "def evalpreset(airfoil):\n",
    "    xf = XFoil()\n",
    "    xf.print = 0\n",
    "    xf.airfoil = Airfoil(airfoil[:,0], airfoil[:,1])\n",
    "    xf.Re = 4e5\n",
    "    xf.max_iter = 2000\n",
    "    a, CL, CD, cm, cp = xf.aseq(-2, 2, 0.5)\n",
    "    i_nan = np.argwhere(np.isnan(CD))\n",
    "    a = np.delete(a, i_nan)\n",
    "    CD = np.delete(CD, i_nan)\n",
    "    try:\n",
    "        i_min = CD.argmin()\n",
    "        CD = CD[i_min]\n",
    "        a = a[i_min]\n",
    "    except:\n",
    "        CD = np.nan\n",
    "    return CD, a\n",
    "\n",
    "def evalperf(airfoil, cl = 0.65):\n",
    "    xf = XFoil()\n",
    "    xf.print = 0\n",
    "    xf.airfoil = Airfoil(airfoil[:,0], airfoil[:,1])\n",
    "    xf.Re = 5.8e4\n",
    "    xf.max_iter = 2000\n",
    "    a, cd, cm, cp = xf.cl(cl)\n",
    "    perf = cl/cd\n",
    "    return perf, a, cd\n",
    "\n",
    "def launch_alpha(airfoil):\n",
    "    alpha = np.linspace(-3,0,num=4)\n",
    "    ail = np.linspace(0.6,0.7,num=3)\n",
    "    a_BL = -3\n",
    "    b_BL = 0.6\n",
    "    CD_BL = 10\n",
    "    af_BL = airfoil\n",
    "    Angle = 0\n",
    "    for a in alpha:\n",
    "        for b in ail:\n",
    "            af = setupflap(airfoil, a, b)\n",
    "            CD, aa = evalpreset(af)\n",
    "            if CD < CD_BL:\n",
    "                CD_BL = CD\n",
    "                a_BL = a\n",
    "                b_BL = b\n",
    "                af_BL = af\n",
    "                Angle = aa\n",
    "    return a_BL, b_BL, CD_BL, af_BL, Angle\n"
   ]
  },
  {
   "cell_type": "code",
   "execution_count": 23,
   "metadata": {},
   "outputs": [
    {
     "data": {
      "image/png": "[encoded data removed]",
      "text/plain": [
       "<Figure size 640x480 with 1 Axes>"
      ]
     },
     "metadata": {},
     "output_type": "display_data"
    }
   ],
   "source": [
    "airfoil = np.loadtxt('samples/Airfoils1D000.dat')\n",
    "\n",
    "fig, axs = plt.subplots(1, 1)\n",
    "axs.plot(airfoil[:,0], airfoil[:,1])\n",
    "axs.set_aspect('equal', 'box')\n",
    "fig.tight_layout()\n",
    "plt.show()\n"
   ]
  },
  {
   "cell_type": "code",
   "execution_count": 24,
   "metadata": {},
   "outputs": [],
   "source": [
    "# af = np.loadtxt('samples/Airfoils1D000F.dat')\n",
    "# af = setupflap(af)\n",
    "# np.savetxt('samples/Airfoils1D000F -2.dat', af)\n",
    "\n",
    "# a_BL, b_BL, CD_BL, airfoil, a = launch_alpha(airfoil)\n",
    "# fig, axs = plt.subplots(1, 1)\n",
    "# axs.plot(airfoil[:,0], airfoil[:,1])\n",
    "# axs.set_aspect('equal', 'box')\n",
    "# fig.tight_layout()\n",
    "# plt.show()\n",
    "\n",
    "# np.savetxt('samples/Airfoils1D000 -2.dat', airfoil)\n",
    "# detect_intersect(airfoil), CD_BL, a_BL, b_BL, a"
   ]
  },
  {
   "cell_type": "code",
   "execution_count": 25,
   "metadata": {},
   "outputs": [],
   "source": [
    "def cruise_alpha(airfoil, pose = 0.7):\n",
    "    alpha = np.linspace(0,5,num=6)\n",
    "    a_BL = 0\n",
    "    perf_BL = 0\n",
    "    af_BL = airfoil\n",
    "    Angle = 0\n",
    "    for a in alpha:\n",
    "        af = setflap(airfoil, a, pose)\n",
    "        perf, aa, cd = evalperf(af)\n",
    "        if perf > perf_BL:\n",
    "            perf_BL = perf\n",
    "            a_BL = a\n",
    "            af_BL = af\n",
    "            Angle = aa\n",
    "    return a_BL, perf_BL, af_BL, Angle\n",
    "# a_BL, perf_BL, airfoil_c, a = cruise_alpha(airfoil, pose=b_BL)\n",
    "# fig, axs = plt.subplots(1, 1)\n",
    "# axs.plot(airfoil_c[:,0], airfoil_c[:,1])\n",
    "# axs.set_aspect('equal', 'box')\n",
    "# fig.tight_layout()\n",
    "# plt.show()\n",
    "# np.savetxt('samples/Airfoils1D000F.dat', airfoil_c)\n",
    "# a_BL, perf_BL, a"
   ]
  },
  {
   "cell_type": "code",
   "execution_count": 26,
   "metadata": {},
   "outputs": [],
   "source": [
    "airfoil = np.loadtxt('samples/Airfoils1D000.dat')\n",
    "\n",
    "def lowestD(airfoil):\n",
    "    if detect_intersect(airfoil):\n",
    "        # print('Unsuccessful: Self-intersecting!')\n",
    "        af_BL, R_BL, a_BL, b_BL, perfBL, cdbl, CD_BL = airfoil, np.nan, np.nan, np.nan, np.nan, np.nan, np.nan\n",
    "    elif abs(airfoil[:128,1] - np.flip(airfoil[128:,1])).max() < 0.055 or abs(airfoil[:128,1] - np.flip(airfoil[128:,1])).max() > 0.08:\n",
    "        # print('Unsuccessful: Too thin!')\n",
    "        af_BL, R_BL, a_BL, b_BL, perfBL, cdbl, CD_BL = airfoil, np.nan, np.nan, np.nan, np.nan, np.nan, np.nan\n",
    "    elif np.abs(airfoil[0,0]-airfoil[-1,0]) > 0.01 or np.abs(airfoil[0,1]-airfoil[-1,1]) > 0.01:\n",
    "        # print('Unsuccessful:', (airfoil[0,0],airfoil[-1,0]), (airfoil[0,1],airfoil[-1,1]))\n",
    "        af_BL, R_BL, a_BL, b_BL, perfBL, cdbl, CD_BL = airfoil, np.nan, np.nan, np.nan, np.nan, np.nan, np.nan\n",
    "    else:\n",
    "        alpha = np.linspace(-3,0,num=4)\n",
    "        ail = np.linspace(0.6,0.7,num=3)\n",
    "        R_BL = 10\n",
    "        CD_BL = 10\n",
    "        a_BL = -3\n",
    "        b_BL = 0.6\n",
    "        perfBL = 0\n",
    "        cdbl = 10\n",
    "        af_BL = airfoil\n",
    "        for a in alpha:\n",
    "            for b in ail:\n",
    "                af = setupflap(airfoil, a, b)\n",
    "                CD, aa = evalpreset(af)\n",
    "                afc = setflap(af, -a, b)\n",
    "                perf, aa, cd = evalperf(afc)\n",
    "                R = cd + CD * 3\n",
    "                if R < R_BL:\n",
    "                    R_BL = R\n",
    "                    a_BL = a\n",
    "                    b_BL = b\n",
    "                    af_BL = af\n",
    "                    perfBL = perf\n",
    "                    cdbl = cd\n",
    "                    CD_BL = CD\n",
    "    return af_BL, R_BL, a_BL, b_BL, perfBL, cdbl, CD_BL\n",
    "\n"
   ]
  },
  {
   "cell_type": "code",
   "execution_count": 27,
   "metadata": {},
   "outputs": [],
   "source": [
    "# airfoil, R, a, b, perf, cd, CD_BL = lowestD(airfoil)\n",
    "# fig, axs = plt.subplots(1, 1)\n",
    "# axs.plot(airfoil[:,0], airfoil[:,1])\n",
    "# axs.set_aspect('equal', 'box')\n",
    "# fig.tight_layout()\n",
    "# plt.show()\n",
    "# R, a, b, perf, cd, CD_BL"
   ]
  },
  {
   "cell_type": "code",
   "execution_count": 28,
   "metadata": {},
   "outputs": [],
   "source": [
    "# np.savetxt('samples/Airfoils1D000F.dat', airfoil)"
   ]
  },
  {
   "cell_type": "code",
   "execution_count": null,
   "metadata": {},
   "outputs": [],
   "source": [
    "import logging\n",
    "logging.basicConfig(filename='results/perf1D.log', encoding='utf-8', level=logging.DEBUG)\n",
    "\n",
    "R_BL = 0.031195905059576035\n",
    "perf_BL = 39.06369801476684\n",
    "CD_BL = 0.004852138459682465\n",
    "cl = 0.65\n",
    "best_perf=perf_BL\n",
    "best_airfoil = None\n",
    "name = 'Airfoils1D'\n",
    "n = 0\n",
    "m = 0\n",
    "count = 0\n",
    "i = 0\n",
    "k = 0\n",
    "airfoilpath = '/work3/s212645/DiffusionAirfoil/'+name+'/'\n",
    "\n",
    "log = np.loadtxt('results/log.txt')\n",
    "i = log[0]\n",
    "k = log[1]\n",
    "m = log[2]\n",
    "\n",
    "while i < 100:\n",
    "    logging.info(f'files: {i+count}')\n",
    "    num = str(i+count).zfill(3)\n",
    "    airfoils = np.load(airfoilpath+num+'.npy')\n",
    "    airfoils = delete_intersect(airfoils)\n",
    "    while k < airfoils.shape[0]:\n",
    "        airfoil = airfoils[k,:,:]\n",
    "        airfoil = derotate(airfoil)\n",
    "        airfoil = Normalize(airfoil)\n",
    "        xhat, yhat = savgol_filter((airfoil[:,0], airfoil[:,1]), 10, 3)\n",
    "        airfoil[:,0] = xhat\n",
    "        airfoil[:,1] = yhat\n",
    "        af, R, a, b, perf, cd, CD_BL = lowestD(airfoil)\n",
    "        if perf == np.nan:\n",
    "            pass\n",
    "        elif R < R_BL:\n",
    "            mm = str(m).zfill(3)\n",
    "            np.savetxt(f'BETTER/airfoil{mm}.dat', airfoil)\n",
    "            np.savetxt(f'BETTER/airfoil{mm}F.dat', af)\n",
    "            logging.info(f'perf: {perf}, R: {R}, m: {mm}')\n",
    "            m += 1\n",
    "        k += 1\n",
    "        log = np.array([i, k, m])\n",
    "        np.savetxt('results/log.txt', log)\n",
    "    i += 1"
   ]
  },
  {
   "cell_type": "code",
   "execution_count": 4,
   "metadata": {},
   "outputs": [
    {
     "name": "stdout",
     "output_type": "stream",
     "text": [
      "perf:  39.66898221895291 R:  0.030599390622228384\n"
     ]
    },
    {
     "data": {
      "text/plain": [
       "(0.030599390622228384,\n",
       " -3.0,\n",
       " 0.6,\n",
       " 39.66898221895291,\n",
       " 0.016385598108172417,\n",
       " 0.004737930838018656)"
      ]
     },
     "execution_count": 4,
     "metadata": {},
     "output_type": "execute_result"
    }
   ],
   "source": [
    "import numpy as np\n",
    "from utils import lowestD\n",
    "points = 'samples/Airfoils1D_001.dat'\n",
    "airfoil = np.loadtxt(points, skiprows=1)\n",
    "af, R, a, b, perf, cd, CD_BL = lowestD(airfoil)\n",
    "name = points.split('/')[1].split('.')[0]+f'_{a}_{b}F'\n",
    "np.savetxt(points.split('.')[0]+f'_{a}_{b}F'+'.dat', af, header=points.split('/')[1].split('.')[0]+f'_{a}_{b}F', comments=\"\")\n",
    "R, a, b, perf, cd, CD_BL"
   ]
  }
 ],
 "metadata": {
  "kernelspec": {
   "display_name": "pytorch2",
   "language": "python",
   "name": "python3"
  },
  "language_info": {
   "codemirror_mode": {
    "name": "ipython",
    "version": 3
   },
   "file_extension": ".py",
   "mimetype": "text/x-python",
   "name": "python",
   "nbconvert_exporter": "python",
   "pygments_lexer": "ipython3",
   "version": "3.11.2"
  }
 },
 "nbformat": 4,
 "nbformat_minor": 2
}
