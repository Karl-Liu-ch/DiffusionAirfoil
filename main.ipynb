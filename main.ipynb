{
 "cells": [
  {
   "cell_type": "code",
   "execution_count": 29,
   "metadata": {},
   "outputs": [],
   "source": [
    "import numpy as np\n",
    "from utils import *\n",
    "\n",
    "LAMBDA = 5\n",
    "# perf_bl, R_bl = cal_baseline(lamda=LAMBDA)"
   ]
  },
  {
   "cell_type": "code",
   "execution_count": 33,
   "metadata": {},
   "outputs": [
    {
     "data": {
      "image/png": "[encoded data removed]",
      "text/plain": [
       "<Figure size 640x480 with 1 Axes>"
      ]
     },
     "metadata": {},
     "output_type": "display_data"
    },
    {
     "name": "stdout",
     "output_type": "stream",
     "text": [
      "47.73821224227924 0.00478996941819787\n"
     ]
    }
   ],
   "source": [
    "points = 'samples/Airfoils1D_498.dat'\n",
    "airfoil = np.loadtxt(points, skiprows=1)\n",
    "show_airfoil(airfoil)\n",
    "af, R, a, b, perf, cd, CD_BL = lowestD(airfoil, Re2= 400000, lamda = LAMBDA, check_thickness=False, modify_thickness = True)\n",
    "show_airfoil(af)\n",
    "# cd, _ = evalpreset(airfoil, Re=399000)\n",
    "# perf,_,_ = evalperf(setflap(airfoil, 1, 0.65))\n",
    "print(perf, CD_BL)\n",
    "np.savetxt('BETTER/'+points.split('/')[1].split('.')[0]+f'_{a}_{b}F'+'.dat', af, header=points.split('/')[1].split('.')[0]+f'_{a}_{b}F', comments=\"\")"
   ]
  },
  {
   "cell_type": "code",
   "execution_count": 28,
   "metadata": {},
   "outputs": [],
   "source": [
    "cds = np.array([np.nan, np.nan, np.nan])\n",
    "i_nan = np.argwhere(np.isnan(cds))\n",
    "cds = np.delete(cds, i_nan)\n",
    "try:\n",
    "    cd = cds.max()\n",
    "except:\n",
    "    cd = np.nan"
   ]
  },
  {
   "cell_type": "code",
   "execution_count": null,
   "metadata": {},
   "outputs": [],
   "source": [
    "import numpy as np\n",
    "from utils import *\n",
    "points = 'results/airfoilPPO.dat'\n",
    "airfoil = np.loadtxt(points, skiprows=1)\n",
    "af, R, a, b, perf, cd, CD_BL = lowestD(airfoil, lamda = LAMBDA)\n",
    "name = points.split('/')[1].split('.')[0]+f'_{a}_{b}F'\n",
    "np.savetxt(points.split('.')[0]+f'_{a}_{b}F'+'.dat', af, header=points.split('/')[1].split('.')[0]+f'_{a}_{b}F', comments=\"\")\n",
    "\n",
    "R, a, b, perf, cd, CD_BL"
   ]
  },
  {
   "cell_type": "code",
   "execution_count": null,
   "metadata": {},
   "outputs": [],
   "source": [
    "show_airfoil(af)\n",
    "detect_intersect(af), cal_thickness(af)"
   ]
  },
  {
   "cell_type": "code",
   "execution_count": null,
   "metadata": {},
   "outputs": [],
   "source": [
    "points = 'samples/Airfoils1D_003.dat'\n",
    "airfoil = np.loadtxt(points, skiprows=1)\n",
    "af = setupflap(airfoil, theta=-2, pose=0.65)\n",
    "evalpreset(af)\n",
    "# af = setflap(af, theta=2, pose = 0.7)\n",
    "# evalperf(af)\n",
    "# show_airfoil(af)"
   ]
  },
  {
   "cell_type": "code",
   "execution_count": null,
   "metadata": {},
   "outputs": [],
   "source": [
    "points = 'samples/Airfoils2D_009_-3.0_0.65F.dat'\n",
    "airfoil = np.loadtxt(points, skiprows=1)\n",
    "cal_thickness(airfoil)"
   ]
  }
 ],
 "metadata": {
  "kernelspec": {
   "display_name": "pytorch2",
   "language": "python",
   "name": "python3"
  },
  "language_info": {
   "codemirror_mode": {
    "name": "ipython",
    "version": 3
   },
   "file_extension": ".py",
   "mimetype": "text/x-python",
   "name": "python",
   "nbconvert_exporter": "python",
   "pygments_lexer": "ipython3",
   "version": "3.11.2"
  }
 },
 "nbformat": 4,
 "nbformat_minor": 2
}
